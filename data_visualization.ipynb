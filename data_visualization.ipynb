{
 "cells": [
  {
   "cell_type": "markdown",
   "metadata": {},
   "source": [
    "<p style=\"text-align: center;\"> <span style=\"color:firebrick\"> <font size=\"5\"> <b> USC Marshall School of Business </b> </font> </p> </span> \n",
    "\n",
    "<p style=\"text-align: center;\"> <b> <font font size=\"5\"> DSO 545-Data Visualization  </p> </b></font>\n",
    "\n",
    "<p style=\"text-align: center;\"> <b> Fall 2020 </b> </p>\n",
    "\n"
   ]
  },
  {
   "cell_type": "markdown",
   "metadata": {},
   "source": [
    "## <span style=\"color:blue\"> Xiangyu Huang </span>"
   ]
  },
  {
   "cell_type": "code",
   "execution_count": 55,
   "metadata": {},
   "outputs": [
    {
     "data": {
      "text/html": [
       "        <script type=\"text/javascript\">\n",
       "        window.PlotlyConfig = {MathJaxConfig: 'local'};\n",
       "        if (window.MathJax) {MathJax.Hub.Config({SVG: {font: \"STIX-Web\"}});}\n",
       "        if (typeof require !== 'undefined') {\n",
       "        require.undef(\"plotly\");\n",
       "        requirejs.config({\n",
       "            paths: {\n",
       "                'plotly': ['https://cdn.plot.ly/plotly-2.8.3.min']\n",
       "            }\n",
       "        });\n",
       "        require(['plotly'], function(Plotly) {\n",
       "            window._Plotly = Plotly;\n",
       "        });\n",
       "        }\n",
       "        </script>\n",
       "        "
      ]
     },
     "metadata": {},
     "output_type": "display_data"
    }
   ],
   "source": [
    "import plotly.graph_objs as go\n",
    "import pandas as pd\n",
    "import numpy as np\n",
    "import matplotlib.pyplot as plt\n",
    "import plotly.express as px\n",
    "from plotly.offline import download_plotlyjs, init_notebook_mode,  iplot\n",
    "import plotly.graph_objects as go\n",
    "init_notebook_mode(connected=True)\n"
   ]
  },
  {
   "cell_type": "code",
   "execution_count": 56,
   "metadata": {},
   "outputs": [
    {
     "data": {
      "text/html": [
       "<div>\n",
       "<style scoped>\n",
       "    .dataframe tbody tr th:only-of-type {\n",
       "        vertical-align: middle;\n",
       "    }\n",
       "\n",
       "    .dataframe tbody tr th {\n",
       "        vertical-align: top;\n",
       "    }\n",
       "\n",
       "    .dataframe thead th {\n",
       "        text-align: right;\n",
       "    }\n",
       "</style>\n",
       "<table border=\"1\" class=\"dataframe\">\n",
       "  <thead>\n",
       "    <tr style=\"text-align: right;\">\n",
       "      <th></th>\n",
       "      <th>Year</th>\n",
       "      <th>Energy Sector</th>\n",
       "      <th>Carrier Type</th>\n",
       "      <th>Final Energy Demand</th>\n",
       "      <th>RE Share</th>\n",
       "      <th>CumSumEnergy</th>\n",
       "    </tr>\n",
       "  </thead>\n",
       "  <tbody>\n",
       "    <tr>\n",
       "      <th>0</th>\n",
       "      <td>2015</td>\n",
       "      <td>Transportation</td>\n",
       "      <td>Electricity</td>\n",
       "      <td>1503</td>\n",
       "      <td>0.015467</td>\n",
       "      <td>1503</td>\n",
       "    </tr>\n",
       "    <tr>\n",
       "      <th>1</th>\n",
       "      <td>2020</td>\n",
       "      <td>Transportation</td>\n",
       "      <td>Electricity</td>\n",
       "      <td>1855</td>\n",
       "      <td>0.018480</td>\n",
       "      <td>1855</td>\n",
       "    </tr>\n",
       "    <tr>\n",
       "      <th>2</th>\n",
       "      <td>2025</td>\n",
       "      <td>Transportation</td>\n",
       "      <td>Electricity</td>\n",
       "      <td>4930</td>\n",
       "      <td>0.062231</td>\n",
       "      <td>4930</td>\n",
       "    </tr>\n",
       "    <tr>\n",
       "      <th>3</th>\n",
       "      <td>2030</td>\n",
       "      <td>Transportation</td>\n",
       "      <td>Electricity</td>\n",
       "      <td>11034</td>\n",
       "      <td>0.184887</td>\n",
       "      <td>11034</td>\n",
       "    </tr>\n",
       "    <tr>\n",
       "      <th>4</th>\n",
       "      <td>2035</td>\n",
       "      <td>Transportation</td>\n",
       "      <td>Electricity</td>\n",
       "      <td>17582</td>\n",
       "      <td>0.365423</td>\n",
       "      <td>17582</td>\n",
       "    </tr>\n",
       "  </tbody>\n",
       "</table>\n",
       "</div>"
      ],
      "text/plain": [
       "   Year   Energy Sector Carrier Type  Final Energy Demand  RE Share  \\\n",
       "0  2015  Transportation  Electricity                 1503  0.015467   \n",
       "1  2020  Transportation  Electricity                 1855  0.018480   \n",
       "2  2025  Transportation  Electricity                 4930  0.062231   \n",
       "3  2030  Transportation  Electricity                11034  0.184887   \n",
       "4  2035  Transportation  Electricity                17582  0.365423   \n",
       "\n",
       "   CumSumEnergy  \n",
       "0          1503  \n",
       "1          1855  \n",
       "2          4930  \n",
       "3         11034  \n",
       "4         17582  "
      ]
     },
     "execution_count": 56,
     "metadata": {},
     "output_type": "execute_result"
    }
   ],
   "source": [
    "data1 = pd.read_csv('World.csv')\n",
    "data1.head()"
   ]
  },
  {
   "cell_type": "code",
   "execution_count": 57,
   "metadata": {},
   "outputs": [
    {
     "data": {
      "text/html": [
       "<div>\n",
       "<style scoped>\n",
       "    .dataframe tbody tr th:only-of-type {\n",
       "        vertical-align: middle;\n",
       "    }\n",
       "\n",
       "    .dataframe tbody tr th {\n",
       "        vertical-align: top;\n",
       "    }\n",
       "\n",
       "    .dataframe thead th {\n",
       "        text-align: right;\n",
       "    }\n",
       "</style>\n",
       "<table border=\"1\" class=\"dataframe\">\n",
       "  <thead>\n",
       "    <tr style=\"text-align: right;\">\n",
       "      <th></th>\n",
       "      <th>Year</th>\n",
       "      <th>Energy Sector</th>\n",
       "      <th>Carrier Type</th>\n",
       "      <th>Final Energy Demand</th>\n",
       "      <th>RE Share</th>\n",
       "      <th>CumSumEnergy</th>\n",
       "      <th>label</th>\n",
       "    </tr>\n",
       "  </thead>\n",
       "  <tbody>\n",
       "    <tr>\n",
       "      <th>0</th>\n",
       "      <td>2015</td>\n",
       "      <td>Transportation</td>\n",
       "      <td>Electricity</td>\n",
       "      <td>1503</td>\n",
       "      <td>0.015467</td>\n",
       "      <td>1503</td>\n",
       "      <td>2% electrification</td>\n",
       "    </tr>\n",
       "    <tr>\n",
       "      <th>1</th>\n",
       "      <td>2020</td>\n",
       "      <td>Transportation</td>\n",
       "      <td>Electricity</td>\n",
       "      <td>1855</td>\n",
       "      <td>0.018480</td>\n",
       "      <td>1855</td>\n",
       "      <td>2% electrification</td>\n",
       "    </tr>\n",
       "    <tr>\n",
       "      <th>2</th>\n",
       "      <td>2025</td>\n",
       "      <td>Transportation</td>\n",
       "      <td>Electricity</td>\n",
       "      <td>4930</td>\n",
       "      <td>0.062231</td>\n",
       "      <td>4930</td>\n",
       "      <td>6% electrification</td>\n",
       "    </tr>\n",
       "    <tr>\n",
       "      <th>3</th>\n",
       "      <td>2030</td>\n",
       "      <td>Transportation</td>\n",
       "      <td>Electricity</td>\n",
       "      <td>11034</td>\n",
       "      <td>0.184887</td>\n",
       "      <td>11034</td>\n",
       "      <td>18% electrification</td>\n",
       "    </tr>\n",
       "    <tr>\n",
       "      <th>4</th>\n",
       "      <td>2035</td>\n",
       "      <td>Transportation</td>\n",
       "      <td>Electricity</td>\n",
       "      <td>17582</td>\n",
       "      <td>0.365423</td>\n",
       "      <td>17582</td>\n",
       "      <td>37% electrification</td>\n",
       "    </tr>\n",
       "  </tbody>\n",
       "</table>\n",
       "</div>"
      ],
      "text/plain": [
       "   Year   Energy Sector Carrier Type  Final Energy Demand  RE Share  \\\n",
       "0  2015  Transportation  Electricity                 1503  0.015467   \n",
       "1  2020  Transportation  Electricity                 1855  0.018480   \n",
       "2  2025  Transportation  Electricity                 4930  0.062231   \n",
       "3  2030  Transportation  Electricity                11034  0.184887   \n",
       "4  2035  Transportation  Electricity                17582  0.365423   \n",
       "\n",
       "   CumSumEnergy                label  \n",
       "0          1503   2% electrification  \n",
       "1          1855   2% electrification  \n",
       "2          4930   6% electrification  \n",
       "3         11034  18% electrification  \n",
       "4         17582  37% electrification  "
      ]
     },
     "execution_count": 57,
     "metadata": {},
     "output_type": "execute_result"
    }
   ],
   "source": [
    "data1['label'] = None\n",
    "def func1(x):\n",
    "    return f'{round(100*x)}% electrification'\n",
    "data1.loc[data1['Carrier Type'] == 'Electricity',['label']] = data1.loc[data1['Carrier Type'] == 'Electricity']['RE Share'].apply(lambda x: func1(x))\n",
    "data1.head()"
   ]
  },
  {
   "cell_type": "code",
   "execution_count": 58,
   "metadata": {},
   "outputs": [
    {
     "data": {
      "text/plain": [
       "[('Transportation', 'Electricity'),\n",
       " ('Transportation', 'Other Carrier'),\n",
       " ('Industry', 'Electricity'),\n",
       " ('Industry', 'Other Carrier'),\n",
       " ('Buildings/Others', 'Electricity'),\n",
       " ('Buildings/Others', 'Other Carrier')]"
      ]
     },
     "execution_count": 58,
     "metadata": {},
     "output_type": "execute_result"
    }
   ],
   "source": [
    "[(i,j) for i in data1['Energy Sector'].unique() for j in data1['Carrier Type'].unique()]"
   ]
  },
  {
   "cell_type": "code",
   "execution_count": 59,
   "metadata": {},
   "outputs": [
    {
     "data": {
      "text/plain": [
       "[0, 1503, 97185, 127776, 210746, 251386]"
      ]
     },
     "execution_count": 59,
     "metadata": {},
     "output_type": "execute_result"
    }
   ],
   "source": [
    "[0]+data1[data1['Year'] == 2015][['CumSumEnergy','Carrier Type']]['CumSumEnergy'].tolist()[:5]"
   ]
  },
  {
   "cell_type": "code",
   "execution_count": 64,
   "metadata": {},
   "outputs": [
    {
     "data": {
      "application/vnd.plotly.v1+json": {
       "config": {
        "linkText": "Export to plot.ly",
        "plotlyServerURL": "https://plot.ly",
        "showLink": false
       },
       "data": [
        {
         "fill": "tozeroy",
         "fillcolor": "rgb(160,200,255)",
         "marker": {
          "color": "white",
          "size": 3
         },
         "mode": "markers",
         "name": "Transportation-Electricity",
         "text": [
          "2% electrification",
          "2% electrification",
          "6% electrification",
          "18% electrification",
          "37% electrification",
          "45% electrification",
          "48% electrification",
          "50% electrification"
         ],
         "type": "scatter",
         "x": [
          2015,
          2020,
          2025,
          2030,
          2035,
          2040,
          2045,
          2050
         ],
         "y": [
          1503,
          1855,
          4930,
          11034,
          17582,
          19380,
          19142,
          18839
         ]
        },
        {
         "fill": "tonexty",
         "fillcolor": "rgb(0,152,255)",
         "marker": {
          "color": "white",
          "size": 3
         },
         "mode": "none",
         "name": "Transportation-Other Carrier",
         "text": [
          null,
          null,
          null,
          null,
          null,
          null,
          null,
          null
         ],
         "type": "scatter",
         "x": [
          2015,
          2020,
          2025,
          2030,
          2035,
          2040,
          2045,
          2050
         ],
         "y": [
          97185,
          100395,
          79222,
          59680,
          48113,
          43435,
          40116,
          37710
         ]
        },
        {
         "fill": "tonexty",
         "fillcolor": "lightgrey",
         "marker": {
          "color": "white",
          "size": 3
         },
         "mode": "markers",
         "name": "Industry-Electricity",
         "text": [
          "27% electrification",
          "28% electrification",
          "33% electrification",
          "40% electrification",
          "47% electrification",
          "51% electrification",
          "54% electrification",
          "58% electrification"
         ],
         "type": "scatter",
         "x": [
          2015,
          2020,
          2025,
          2030,
          2035,
          2040,
          2045,
          2050
         ],
         "y": [
          127776,
          134251,
          117232,
          102785,
          95282,
          93701,
          93601,
          94587
         ]
        },
        {
         "fill": "tonexty",
         "fillcolor": "#575d6d",
         "marker": {
          "color": "white",
          "size": 3
         },
         "mode": "none",
         "name": "Industry-Other Carrier",
         "text": [
          null,
          null,
          null,
          null,
          null,
          null,
          null,
          null
         ],
         "type": "scatter",
         "x": [
          2015,
          2020,
          2025,
          2030,
          2035,
          2040,
          2045,
          2050
         ],
         "y": [
          210746,
          219912,
          192730,
          166868,
          148957,
          142684,
          138379,
          136282
         ]
        },
        {
         "fill": "tonexty",
         "fillcolor": "rgb(247,104,161)",
         "marker": {
          "color": "white",
          "size": 3
         },
         "mode": "markers",
         "name": "Buildings/Others-Electricity",
         "text": [
          "31% electrification",
          "33% electrification",
          "38% electrification",
          "45% electrification",
          "50% electrification",
          "55% electrification",
          "60% electrification",
          "64% electrification"
         ],
         "type": "scatter",
         "x": [
          2015,
          2020,
          2025,
          2030,
          2035,
          2040,
          2045,
          2050
         ],
         "y": [
          251386,
          265095,
          241832,
          219388,
          205957,
          205446,
          207112,
          210720
         ]
        },
        {
         "fill": "tonexty",
         "fillcolor": "rgb(150,0,90)",
         "marker": {
          "color": "white",
          "size": 3
         },
         "mode": "none",
         "name": "Buildings/Others-Other Carrier",
         "text": [
          null,
          null,
          null,
          null,
          null,
          null,
          null,
          null
         ],
         "type": "scatter",
         "x": [
          2015,
          2020,
          2025,
          2030,
          2035,
          2040,
          2045,
          2050
         ],
         "y": [
          341889,
          355100,
          320466,
          284145,
          262699,
          256844,
          253713,
          253150
         ]
        }
       ],
       "layout": {
        "annotations": [
         {
          "align": "left",
          "font": {
           "color": "white",
           "size": 15
          },
          "showarrow": false,
          "text": "<b>Transportation</b>",
          "width": 200,
          "x": 2015,
          "xshift": 105,
          "y": 97185,
          "yshift": -20
         },
         {
          "align": "left",
          "font": {
           "color": "white",
           "size": 15
          },
          "showarrow": false,
          "text": "<b>Industry</b>",
          "width": 200,
          "x": 2015,
          "xshift": 105,
          "y": 210746,
          "yshift": -20
         },
         {
          "align": "left",
          "font": {
           "color": "white",
           "size": 15
          },
          "showarrow": false,
          "text": "<b>Buildings/Others</b>",
          "width": 200,
          "x": 2015,
          "xshift": 105,
          "y": 341889,
          "yshift": -20
         },
         {
          "align": "right",
          "font": {
           "color": "black",
           "size": 15
          },
          "showarrow": false,
          "text": "Electric power",
          "width": 200,
          "x": 2050,
          "xshift": -105,
          "y": 0,
          "yshift": 9
         },
         {
          "align": "right",
          "font": {
           "color": "black",
           "size": 15
          },
          "showarrow": false,
          "text": "On-board fuels",
          "width": 200,
          "x": 2050,
          "xshift": -105,
          "y": 18839,
          "yshift": 9
         },
         {
          "align": "right",
          "font": {
           "color": "black",
           "size": 15
          },
          "showarrow": false,
          "text": "Electric power",
          "width": 200,
          "x": 2050,
          "xshift": -105,
          "y": 37710,
          "yshift": 9
         },
         {
          "align": "right",
          "font": {
           "color": "black",
           "size": 15
          },
          "showarrow": false,
          "text": "On-site energy",
          "width": 200,
          "x": 2050,
          "xshift": -105,
          "y": 94587,
          "yshift": 9
         },
         {
          "align": "right",
          "font": {
           "color": "black",
           "size": 15
          },
          "showarrow": false,
          "text": "Electric power",
          "width": 200,
          "x": 2050,
          "xshift": -105,
          "y": 136282,
          "yshift": 9
         },
         {
          "align": "right",
          "font": {
           "color": "black",
           "size": 15
          },
          "showarrow": false,
          "text": "On-site energy",
          "width": 200,
          "x": 2050,
          "xshift": -105,
          "y": 210720,
          "yshift": 9
         }
        ],
        "autosize": false,
        "height": 800,
        "plot_bgcolor": "white",
        "shapes": [
         {
          "line": {
           "color": "white",
           "dash": "dash",
           "width": 1
          },
          "type": "line",
          "x0": 2020,
          "x1": 2020,
          "y0": 0,
          "y1": 355100
         },
         {
          "line": {
           "color": "white",
           "dash": "dash",
           "width": 1
          },
          "type": "line",
          "x0": 2030,
          "x1": 2030,
          "y0": 0,
          "y1": 355100
         },
         {
          "line": {
           "color": "white",
           "dash": "dash",
           "width": 1
          },
          "type": "line",
          "x0": 2040,
          "x1": 2040,
          "y0": 0,
          "y1": 355100
         }
        ],
        "showlegend": false,
        "template": {
         "data": {
          "bar": [
           {
            "error_x": {
             "color": "#2a3f5f"
            },
            "error_y": {
             "color": "#2a3f5f"
            },
            "marker": {
             "line": {
              "color": "#E5ECF6",
              "width": 0.5
             },
             "pattern": {
              "fillmode": "overlay",
              "size": 10,
              "solidity": 0.2
             }
            },
            "type": "bar"
           }
          ],
          "barpolar": [
           {
            "marker": {
             "line": {
              "color": "#E5ECF6",
              "width": 0.5
             },
             "pattern": {
              "fillmode": "overlay",
              "size": 10,
              "solidity": 0.2
             }
            },
            "type": "barpolar"
           }
          ],
          "carpet": [
           {
            "aaxis": {
             "endlinecolor": "#2a3f5f",
             "gridcolor": "white",
             "linecolor": "white",
             "minorgridcolor": "white",
             "startlinecolor": "#2a3f5f"
            },
            "baxis": {
             "endlinecolor": "#2a3f5f",
             "gridcolor": "white",
             "linecolor": "white",
             "minorgridcolor": "white",
             "startlinecolor": "#2a3f5f"
            },
            "type": "carpet"
           }
          ],
          "choropleth": [
           {
            "colorbar": {
             "outlinewidth": 0,
             "ticks": ""
            },
            "type": "choropleth"
           }
          ],
          "contour": [
           {
            "colorbar": {
             "outlinewidth": 0,
             "ticks": ""
            },
            "colorscale": [
             [
              0,
              "#0d0887"
             ],
             [
              0.1111111111111111,
              "#46039f"
             ],
             [
              0.2222222222222222,
              "#7201a8"
             ],
             [
              0.3333333333333333,
              "#9c179e"
             ],
             [
              0.4444444444444444,
              "#bd3786"
             ],
             [
              0.5555555555555556,
              "#d8576b"
             ],
             [
              0.6666666666666666,
              "#ed7953"
             ],
             [
              0.7777777777777778,
              "#fb9f3a"
             ],
             [
              0.8888888888888888,
              "#fdca26"
             ],
             [
              1,
              "#f0f921"
             ]
            ],
            "type": "contour"
           }
          ],
          "contourcarpet": [
           {
            "colorbar": {
             "outlinewidth": 0,
             "ticks": ""
            },
            "type": "contourcarpet"
           }
          ],
          "heatmap": [
           {
            "colorbar": {
             "outlinewidth": 0,
             "ticks": ""
            },
            "colorscale": [
             [
              0,
              "#0d0887"
             ],
             [
              0.1111111111111111,
              "#46039f"
             ],
             [
              0.2222222222222222,
              "#7201a8"
             ],
             [
              0.3333333333333333,
              "#9c179e"
             ],
             [
              0.4444444444444444,
              "#bd3786"
             ],
             [
              0.5555555555555556,
              "#d8576b"
             ],
             [
              0.6666666666666666,
              "#ed7953"
             ],
             [
              0.7777777777777778,
              "#fb9f3a"
             ],
             [
              0.8888888888888888,
              "#fdca26"
             ],
             [
              1,
              "#f0f921"
             ]
            ],
            "type": "heatmap"
           }
          ],
          "heatmapgl": [
           {
            "colorbar": {
             "outlinewidth": 0,
             "ticks": ""
            },
            "colorscale": [
             [
              0,
              "#0d0887"
             ],
             [
              0.1111111111111111,
              "#46039f"
             ],
             [
              0.2222222222222222,
              "#7201a8"
             ],
             [
              0.3333333333333333,
              "#9c179e"
             ],
             [
              0.4444444444444444,
              "#bd3786"
             ],
             [
              0.5555555555555556,
              "#d8576b"
             ],
             [
              0.6666666666666666,
              "#ed7953"
             ],
             [
              0.7777777777777778,
              "#fb9f3a"
             ],
             [
              0.8888888888888888,
              "#fdca26"
             ],
             [
              1,
              "#f0f921"
             ]
            ],
            "type": "heatmapgl"
           }
          ],
          "histogram": [
           {
            "marker": {
             "pattern": {
              "fillmode": "overlay",
              "size": 10,
              "solidity": 0.2
             }
            },
            "type": "histogram"
           }
          ],
          "histogram2d": [
           {
            "colorbar": {
             "outlinewidth": 0,
             "ticks": ""
            },
            "colorscale": [
             [
              0,
              "#0d0887"
             ],
             [
              0.1111111111111111,
              "#46039f"
             ],
             [
              0.2222222222222222,
              "#7201a8"
             ],
             [
              0.3333333333333333,
              "#9c179e"
             ],
             [
              0.4444444444444444,
              "#bd3786"
             ],
             [
              0.5555555555555556,
              "#d8576b"
             ],
             [
              0.6666666666666666,
              "#ed7953"
             ],
             [
              0.7777777777777778,
              "#fb9f3a"
             ],
             [
              0.8888888888888888,
              "#fdca26"
             ],
             [
              1,
              "#f0f921"
             ]
            ],
            "type": "histogram2d"
           }
          ],
          "histogram2dcontour": [
           {
            "colorbar": {
             "outlinewidth": 0,
             "ticks": ""
            },
            "colorscale": [
             [
              0,
              "#0d0887"
             ],
             [
              0.1111111111111111,
              "#46039f"
             ],
             [
              0.2222222222222222,
              "#7201a8"
             ],
             [
              0.3333333333333333,
              "#9c179e"
             ],
             [
              0.4444444444444444,
              "#bd3786"
             ],
             [
              0.5555555555555556,
              "#d8576b"
             ],
             [
              0.6666666666666666,
              "#ed7953"
             ],
             [
              0.7777777777777778,
              "#fb9f3a"
             ],
             [
              0.8888888888888888,
              "#fdca26"
             ],
             [
              1,
              "#f0f921"
             ]
            ],
            "type": "histogram2dcontour"
           }
          ],
          "mesh3d": [
           {
            "colorbar": {
             "outlinewidth": 0,
             "ticks": ""
            },
            "type": "mesh3d"
           }
          ],
          "parcoords": [
           {
            "line": {
             "colorbar": {
              "outlinewidth": 0,
              "ticks": ""
             }
            },
            "type": "parcoords"
           }
          ],
          "pie": [
           {
            "automargin": true,
            "type": "pie"
           }
          ],
          "scatter": [
           {
            "marker": {
             "colorbar": {
              "outlinewidth": 0,
              "ticks": ""
             }
            },
            "type": "scatter"
           }
          ],
          "scatter3d": [
           {
            "line": {
             "colorbar": {
              "outlinewidth": 0,
              "ticks": ""
             }
            },
            "marker": {
             "colorbar": {
              "outlinewidth": 0,
              "ticks": ""
             }
            },
            "type": "scatter3d"
           }
          ],
          "scattercarpet": [
           {
            "marker": {
             "colorbar": {
              "outlinewidth": 0,
              "ticks": ""
             }
            },
            "type": "scattercarpet"
           }
          ],
          "scattergeo": [
           {
            "marker": {
             "colorbar": {
              "outlinewidth": 0,
              "ticks": ""
             }
            },
            "type": "scattergeo"
           }
          ],
          "scattergl": [
           {
            "marker": {
             "colorbar": {
              "outlinewidth": 0,
              "ticks": ""
             }
            },
            "type": "scattergl"
           }
          ],
          "scattermapbox": [
           {
            "marker": {
             "colorbar": {
              "outlinewidth": 0,
              "ticks": ""
             }
            },
            "type": "scattermapbox"
           }
          ],
          "scatterpolar": [
           {
            "marker": {
             "colorbar": {
              "outlinewidth": 0,
              "ticks": ""
             }
            },
            "type": "scatterpolar"
           }
          ],
          "scatterpolargl": [
           {
            "marker": {
             "colorbar": {
              "outlinewidth": 0,
              "ticks": ""
             }
            },
            "type": "scatterpolargl"
           }
          ],
          "scatterternary": [
           {
            "marker": {
             "colorbar": {
              "outlinewidth": 0,
              "ticks": ""
             }
            },
            "type": "scatterternary"
           }
          ],
          "surface": [
           {
            "colorbar": {
             "outlinewidth": 0,
             "ticks": ""
            },
            "colorscale": [
             [
              0,
              "#0d0887"
             ],
             [
              0.1111111111111111,
              "#46039f"
             ],
             [
              0.2222222222222222,
              "#7201a8"
             ],
             [
              0.3333333333333333,
              "#9c179e"
             ],
             [
              0.4444444444444444,
              "#bd3786"
             ],
             [
              0.5555555555555556,
              "#d8576b"
             ],
             [
              0.6666666666666666,
              "#ed7953"
             ],
             [
              0.7777777777777778,
              "#fb9f3a"
             ],
             [
              0.8888888888888888,
              "#fdca26"
             ],
             [
              1,
              "#f0f921"
             ]
            ],
            "type": "surface"
           }
          ],
          "table": [
           {
            "cells": {
             "fill": {
              "color": "#EBF0F8"
             },
             "line": {
              "color": "white"
             }
            },
            "header": {
             "fill": {
              "color": "#C8D4E3"
             },
             "line": {
              "color": "white"
             }
            },
            "type": "table"
           }
          ]
         },
         "layout": {
          "annotationdefaults": {
           "arrowcolor": "#2a3f5f",
           "arrowhead": 0,
           "arrowwidth": 1
          },
          "autotypenumbers": "strict",
          "coloraxis": {
           "colorbar": {
            "outlinewidth": 0,
            "ticks": ""
           }
          },
          "colorscale": {
           "diverging": [
            [
             0,
             "#8e0152"
            ],
            [
             0.1,
             "#c51b7d"
            ],
            [
             0.2,
             "#de77ae"
            ],
            [
             0.3,
             "#f1b6da"
            ],
            [
             0.4,
             "#fde0ef"
            ],
            [
             0.5,
             "#f7f7f7"
            ],
            [
             0.6,
             "#e6f5d0"
            ],
            [
             0.7,
             "#b8e186"
            ],
            [
             0.8,
             "#7fbc41"
            ],
            [
             0.9,
             "#4d9221"
            ],
            [
             1,
             "#276419"
            ]
           ],
           "sequential": [
            [
             0,
             "#0d0887"
            ],
            [
             0.1111111111111111,
             "#46039f"
            ],
            [
             0.2222222222222222,
             "#7201a8"
            ],
            [
             0.3333333333333333,
             "#9c179e"
            ],
            [
             0.4444444444444444,
             "#bd3786"
            ],
            [
             0.5555555555555556,
             "#d8576b"
            ],
            [
             0.6666666666666666,
             "#ed7953"
            ],
            [
             0.7777777777777778,
             "#fb9f3a"
            ],
            [
             0.8888888888888888,
             "#fdca26"
            ],
            [
             1,
             "#f0f921"
            ]
           ],
           "sequentialminus": [
            [
             0,
             "#0d0887"
            ],
            [
             0.1111111111111111,
             "#46039f"
            ],
            [
             0.2222222222222222,
             "#7201a8"
            ],
            [
             0.3333333333333333,
             "#9c179e"
            ],
            [
             0.4444444444444444,
             "#bd3786"
            ],
            [
             0.5555555555555556,
             "#d8576b"
            ],
            [
             0.6666666666666666,
             "#ed7953"
            ],
            [
             0.7777777777777778,
             "#fb9f3a"
            ],
            [
             0.8888888888888888,
             "#fdca26"
            ],
            [
             1,
             "#f0f921"
            ]
           ]
          },
          "colorway": [
           "#636efa",
           "#EF553B",
           "#00cc96",
           "#ab63fa",
           "#FFA15A",
           "#19d3f3",
           "#FF6692",
           "#B6E880",
           "#FF97FF",
           "#FECB52"
          ],
          "font": {
           "color": "#2a3f5f"
          },
          "geo": {
           "bgcolor": "white",
           "lakecolor": "white",
           "landcolor": "#E5ECF6",
           "showlakes": true,
           "showland": true,
           "subunitcolor": "white"
          },
          "hoverlabel": {
           "align": "left"
          },
          "hovermode": "closest",
          "mapbox": {
           "style": "light"
          },
          "paper_bgcolor": "white",
          "plot_bgcolor": "#E5ECF6",
          "polar": {
           "angularaxis": {
            "gridcolor": "white",
            "linecolor": "white",
            "ticks": ""
           },
           "bgcolor": "#E5ECF6",
           "radialaxis": {
            "gridcolor": "white",
            "linecolor": "white",
            "ticks": ""
           }
          },
          "scene": {
           "xaxis": {
            "backgroundcolor": "#E5ECF6",
            "gridcolor": "white",
            "gridwidth": 2,
            "linecolor": "white",
            "showbackground": true,
            "ticks": "",
            "zerolinecolor": "white"
           },
           "yaxis": {
            "backgroundcolor": "#E5ECF6",
            "gridcolor": "white",
            "gridwidth": 2,
            "linecolor": "white",
            "showbackground": true,
            "ticks": "",
            "zerolinecolor": "white"
           },
           "zaxis": {
            "backgroundcolor": "#E5ECF6",
            "gridcolor": "white",
            "gridwidth": 2,
            "linecolor": "white",
            "showbackground": true,
            "ticks": "",
            "zerolinecolor": "white"
           }
          },
          "shapedefaults": {
           "line": {
            "color": "#2a3f5f"
           }
          },
          "ternary": {
           "aaxis": {
            "gridcolor": "white",
            "linecolor": "white",
            "ticks": ""
           },
           "baxis": {
            "gridcolor": "white",
            "linecolor": "white",
            "ticks": ""
           },
           "bgcolor": "#E5ECF6",
           "caxis": {
            "gridcolor": "white",
            "linecolor": "white",
            "ticks": ""
           }
          },
          "title": {
           "x": 0.05
          },
          "xaxis": {
           "automargin": true,
           "gridcolor": "white",
           "linecolor": "white",
           "ticks": "",
           "title": {
            "standoff": 15
           },
           "zerolinecolor": "white",
           "zerolinewidth": 2
          },
          "yaxis": {
           "automargin": true,
           "gridcolor": "white",
           "linecolor": "white",
           "ticks": "",
           "title": {
            "standoff": 15
           },
           "zerolinecolor": "white",
           "zerolinewidth": 2
          }
         }
        },
        "width": 900,
        "xaxis": {
         "showgrid": false
        },
        "yaxis": {
         "showgrid": false,
         "tickfont": {
          "size": 14
         },
         "ticktext": [
          "50,000",
          "100,000",
          "150,000",
          "200,000",
          "250,000",
          "300,000",
          "350,000"
         ],
         "tickvals": [
          50000,
          100000,
          150000,
          200000,
          250000,
          300000,
          350000
         ],
         "title": {
          "text": "<b>Final Energy Demand (PJ)<b>"
         }
        }
       }
      },
      "text/html": [
       "<div>                            <div id=\"87125ec9-3837-4e0d-9abd-12c923668328\" class=\"plotly-graph-div\" style=\"height:800px; width:900px;\"></div>            <script type=\"text/javascript\">                require([\"plotly\"], function(Plotly) {                    window.PLOTLYENV=window.PLOTLYENV || {};                                    if (document.getElementById(\"87125ec9-3837-4e0d-9abd-12c923668328\")) {                    Plotly.newPlot(                        \"87125ec9-3837-4e0d-9abd-12c923668328\",                        [{\"fill\":\"tozeroy\",\"fillcolor\":\"rgb(160,200,255)\",\"marker\":{\"color\":\"white\",\"size\":3},\"mode\":\"markers\",\"name\":\"Transportation-Electricity\",\"text\":[\"2% electrification\",\"2% electrification\",\"6% electrification\",\"18% electrification\",\"37% electrification\",\"45% electrification\",\"48% electrification\",\"50% electrification\"],\"x\":[2015,2020,2025,2030,2035,2040,2045,2050],\"y\":[1503,1855,4930,11034,17582,19380,19142,18839],\"type\":\"scatter\"},{\"fill\":\"tonexty\",\"fillcolor\":\"rgb(0,152,255)\",\"marker\":{\"color\":\"white\",\"size\":3},\"mode\":\"none\",\"name\":\"Transportation-Other Carrier\",\"text\":[null,null,null,null,null,null,null,null],\"x\":[2015,2020,2025,2030,2035,2040,2045,2050],\"y\":[97185,100395,79222,59680,48113,43435,40116,37710],\"type\":\"scatter\"},{\"fill\":\"tonexty\",\"fillcolor\":\"lightgrey\",\"marker\":{\"color\":\"white\",\"size\":3},\"mode\":\"markers\",\"name\":\"Industry-Electricity\",\"text\":[\"27% electrification\",\"28% electrification\",\"33% electrification\",\"40% electrification\",\"47% electrification\",\"51% electrification\",\"54% electrification\",\"58% electrification\"],\"x\":[2015,2020,2025,2030,2035,2040,2045,2050],\"y\":[127776,134251,117232,102785,95282,93701,93601,94587],\"type\":\"scatter\"},{\"fill\":\"tonexty\",\"fillcolor\":\"#575d6d\",\"marker\":{\"color\":\"white\",\"size\":3},\"mode\":\"none\",\"name\":\"Industry-Other Carrier\",\"text\":[null,null,null,null,null,null,null,null],\"x\":[2015,2020,2025,2030,2035,2040,2045,2050],\"y\":[210746,219912,192730,166868,148957,142684,138379,136282],\"type\":\"scatter\"},{\"fill\":\"tonexty\",\"fillcolor\":\"rgb(247,104,161)\",\"marker\":{\"color\":\"white\",\"size\":3},\"mode\":\"markers\",\"name\":\"Buildings/Others-Electricity\",\"text\":[\"31% electrification\",\"33% electrification\",\"38% electrification\",\"45% electrification\",\"50% electrification\",\"55% electrification\",\"60% electrification\",\"64% electrification\"],\"x\":[2015,2020,2025,2030,2035,2040,2045,2050],\"y\":[251386,265095,241832,219388,205957,205446,207112,210720],\"type\":\"scatter\"},{\"fill\":\"tonexty\",\"fillcolor\":\"rgb(150,0,90)\",\"marker\":{\"color\":\"white\",\"size\":3},\"mode\":\"none\",\"name\":\"Buildings/Others-Other Carrier\",\"text\":[null,null,null,null,null,null,null,null],\"x\":[2015,2020,2025,2030,2035,2040,2045,2050],\"y\":[341889,355100,320466,284145,262699,256844,253713,253150],\"type\":\"scatter\"}],                        {\"annotations\":[{\"align\":\"left\",\"font\":{\"color\":\"white\",\"size\":15},\"showarrow\":false,\"text\":\"<b>Transportation</b>\",\"width\":200,\"x\":2015,\"xshift\":105,\"y\":97185,\"yshift\":-20},{\"align\":\"left\",\"font\":{\"color\":\"white\",\"size\":15},\"showarrow\":false,\"text\":\"<b>Industry</b>\",\"width\":200,\"x\":2015,\"xshift\":105,\"y\":210746,\"yshift\":-20},{\"align\":\"left\",\"font\":{\"color\":\"white\",\"size\":15},\"showarrow\":false,\"text\":\"<b>Buildings/Others</b>\",\"width\":200,\"x\":2015,\"xshift\":105,\"y\":341889,\"yshift\":-20},{\"align\":\"right\",\"font\":{\"color\":\"black\",\"size\":15},\"showarrow\":false,\"text\":\"Electric power\",\"width\":200,\"x\":2050,\"xshift\":-105,\"y\":0,\"yshift\":9},{\"align\":\"right\",\"font\":{\"color\":\"black\",\"size\":15},\"showarrow\":false,\"text\":\"On-board fuels\",\"width\":200,\"x\":2050,\"xshift\":-105,\"y\":18839,\"yshift\":9},{\"align\":\"right\",\"font\":{\"color\":\"black\",\"size\":15},\"showarrow\":false,\"text\":\"Electric power\",\"width\":200,\"x\":2050,\"xshift\":-105,\"y\":37710,\"yshift\":9},{\"align\":\"right\",\"font\":{\"color\":\"black\",\"size\":15},\"showarrow\":false,\"text\":\"On-site energy\",\"width\":200,\"x\":2050,\"xshift\":-105,\"y\":94587,\"yshift\":9},{\"align\":\"right\",\"font\":{\"color\":\"black\",\"size\":15},\"showarrow\":false,\"text\":\"Electric power\",\"width\":200,\"x\":2050,\"xshift\":-105,\"y\":136282,\"yshift\":9},{\"align\":\"right\",\"font\":{\"color\":\"black\",\"size\":15},\"showarrow\":false,\"text\":\"On-site energy\",\"width\":200,\"x\":2050,\"xshift\":-105,\"y\":210720,\"yshift\":9}],\"autosize\":false,\"height\":800,\"plot_bgcolor\":\"white\",\"shapes\":[{\"line\":{\"color\":\"white\",\"dash\":\"dash\",\"width\":1},\"type\":\"line\",\"x0\":2020,\"x1\":2020,\"y0\":0,\"y1\":355100},{\"line\":{\"color\":\"white\",\"dash\":\"dash\",\"width\":1},\"type\":\"line\",\"x0\":2030,\"x1\":2030,\"y0\":0,\"y1\":355100},{\"line\":{\"color\":\"white\",\"dash\":\"dash\",\"width\":1},\"type\":\"line\",\"x0\":2040,\"x1\":2040,\"y0\":0,\"y1\":355100}],\"showlegend\":false,\"template\":{\"data\":{\"barpolar\":[{\"marker\":{\"line\":{\"color\":\"#E5ECF6\",\"width\":0.5},\"pattern\":{\"fillmode\":\"overlay\",\"size\":10,\"solidity\":0.2}},\"type\":\"barpolar\"}],\"bar\":[{\"error_x\":{\"color\":\"#2a3f5f\"},\"error_y\":{\"color\":\"#2a3f5f\"},\"marker\":{\"line\":{\"color\":\"#E5ECF6\",\"width\":0.5},\"pattern\":{\"fillmode\":\"overlay\",\"size\":10,\"solidity\":0.2}},\"type\":\"bar\"}],\"carpet\":[{\"aaxis\":{\"endlinecolor\":\"#2a3f5f\",\"gridcolor\":\"white\",\"linecolor\":\"white\",\"minorgridcolor\":\"white\",\"startlinecolor\":\"#2a3f5f\"},\"baxis\":{\"endlinecolor\":\"#2a3f5f\",\"gridcolor\":\"white\",\"linecolor\":\"white\",\"minorgridcolor\":\"white\",\"startlinecolor\":\"#2a3f5f\"},\"type\":\"carpet\"}],\"choropleth\":[{\"colorbar\":{\"outlinewidth\":0,\"ticks\":\"\"},\"type\":\"choropleth\"}],\"contourcarpet\":[{\"colorbar\":{\"outlinewidth\":0,\"ticks\":\"\"},\"type\":\"contourcarpet\"}],\"contour\":[{\"colorbar\":{\"outlinewidth\":0,\"ticks\":\"\"},\"colorscale\":[[0.0,\"#0d0887\"],[0.1111111111111111,\"#46039f\"],[0.2222222222222222,\"#7201a8\"],[0.3333333333333333,\"#9c179e\"],[0.4444444444444444,\"#bd3786\"],[0.5555555555555556,\"#d8576b\"],[0.6666666666666666,\"#ed7953\"],[0.7777777777777778,\"#fb9f3a\"],[0.8888888888888888,\"#fdca26\"],[1.0,\"#f0f921\"]],\"type\":\"contour\"}],\"heatmapgl\":[{\"colorbar\":{\"outlinewidth\":0,\"ticks\":\"\"},\"colorscale\":[[0.0,\"#0d0887\"],[0.1111111111111111,\"#46039f\"],[0.2222222222222222,\"#7201a8\"],[0.3333333333333333,\"#9c179e\"],[0.4444444444444444,\"#bd3786\"],[0.5555555555555556,\"#d8576b\"],[0.6666666666666666,\"#ed7953\"],[0.7777777777777778,\"#fb9f3a\"],[0.8888888888888888,\"#fdca26\"],[1.0,\"#f0f921\"]],\"type\":\"heatmapgl\"}],\"heatmap\":[{\"colorbar\":{\"outlinewidth\":0,\"ticks\":\"\"},\"colorscale\":[[0.0,\"#0d0887\"],[0.1111111111111111,\"#46039f\"],[0.2222222222222222,\"#7201a8\"],[0.3333333333333333,\"#9c179e\"],[0.4444444444444444,\"#bd3786\"],[0.5555555555555556,\"#d8576b\"],[0.6666666666666666,\"#ed7953\"],[0.7777777777777778,\"#fb9f3a\"],[0.8888888888888888,\"#fdca26\"],[1.0,\"#f0f921\"]],\"type\":\"heatmap\"}],\"histogram2dcontour\":[{\"colorbar\":{\"outlinewidth\":0,\"ticks\":\"\"},\"colorscale\":[[0.0,\"#0d0887\"],[0.1111111111111111,\"#46039f\"],[0.2222222222222222,\"#7201a8\"],[0.3333333333333333,\"#9c179e\"],[0.4444444444444444,\"#bd3786\"],[0.5555555555555556,\"#d8576b\"],[0.6666666666666666,\"#ed7953\"],[0.7777777777777778,\"#fb9f3a\"],[0.8888888888888888,\"#fdca26\"],[1.0,\"#f0f921\"]],\"type\":\"histogram2dcontour\"}],\"histogram2d\":[{\"colorbar\":{\"outlinewidth\":0,\"ticks\":\"\"},\"colorscale\":[[0.0,\"#0d0887\"],[0.1111111111111111,\"#46039f\"],[0.2222222222222222,\"#7201a8\"],[0.3333333333333333,\"#9c179e\"],[0.4444444444444444,\"#bd3786\"],[0.5555555555555556,\"#d8576b\"],[0.6666666666666666,\"#ed7953\"],[0.7777777777777778,\"#fb9f3a\"],[0.8888888888888888,\"#fdca26\"],[1.0,\"#f0f921\"]],\"type\":\"histogram2d\"}],\"histogram\":[{\"marker\":{\"pattern\":{\"fillmode\":\"overlay\",\"size\":10,\"solidity\":0.2}},\"type\":\"histogram\"}],\"mesh3d\":[{\"colorbar\":{\"outlinewidth\":0,\"ticks\":\"\"},\"type\":\"mesh3d\"}],\"parcoords\":[{\"line\":{\"colorbar\":{\"outlinewidth\":0,\"ticks\":\"\"}},\"type\":\"parcoords\"}],\"pie\":[{\"automargin\":true,\"type\":\"pie\"}],\"scatter3d\":[{\"line\":{\"colorbar\":{\"outlinewidth\":0,\"ticks\":\"\"}},\"marker\":{\"colorbar\":{\"outlinewidth\":0,\"ticks\":\"\"}},\"type\":\"scatter3d\"}],\"scattercarpet\":[{\"marker\":{\"colorbar\":{\"outlinewidth\":0,\"ticks\":\"\"}},\"type\":\"scattercarpet\"}],\"scattergeo\":[{\"marker\":{\"colorbar\":{\"outlinewidth\":0,\"ticks\":\"\"}},\"type\":\"scattergeo\"}],\"scattergl\":[{\"marker\":{\"colorbar\":{\"outlinewidth\":0,\"ticks\":\"\"}},\"type\":\"scattergl\"}],\"scattermapbox\":[{\"marker\":{\"colorbar\":{\"outlinewidth\":0,\"ticks\":\"\"}},\"type\":\"scattermapbox\"}],\"scatterpolargl\":[{\"marker\":{\"colorbar\":{\"outlinewidth\":0,\"ticks\":\"\"}},\"type\":\"scatterpolargl\"}],\"scatterpolar\":[{\"marker\":{\"colorbar\":{\"outlinewidth\":0,\"ticks\":\"\"}},\"type\":\"scatterpolar\"}],\"scatter\":[{\"marker\":{\"colorbar\":{\"outlinewidth\":0,\"ticks\":\"\"}},\"type\":\"scatter\"}],\"scatterternary\":[{\"marker\":{\"colorbar\":{\"outlinewidth\":0,\"ticks\":\"\"}},\"type\":\"scatterternary\"}],\"surface\":[{\"colorbar\":{\"outlinewidth\":0,\"ticks\":\"\"},\"colorscale\":[[0.0,\"#0d0887\"],[0.1111111111111111,\"#46039f\"],[0.2222222222222222,\"#7201a8\"],[0.3333333333333333,\"#9c179e\"],[0.4444444444444444,\"#bd3786\"],[0.5555555555555556,\"#d8576b\"],[0.6666666666666666,\"#ed7953\"],[0.7777777777777778,\"#fb9f3a\"],[0.8888888888888888,\"#fdca26\"],[1.0,\"#f0f921\"]],\"type\":\"surface\"}],\"table\":[{\"cells\":{\"fill\":{\"color\":\"#EBF0F8\"},\"line\":{\"color\":\"white\"}},\"header\":{\"fill\":{\"color\":\"#C8D4E3\"},\"line\":{\"color\":\"white\"}},\"type\":\"table\"}]},\"layout\":{\"annotationdefaults\":{\"arrowcolor\":\"#2a3f5f\",\"arrowhead\":0,\"arrowwidth\":1},\"autotypenumbers\":\"strict\",\"coloraxis\":{\"colorbar\":{\"outlinewidth\":0,\"ticks\":\"\"}},\"colorscale\":{\"diverging\":[[0,\"#8e0152\"],[0.1,\"#c51b7d\"],[0.2,\"#de77ae\"],[0.3,\"#f1b6da\"],[0.4,\"#fde0ef\"],[0.5,\"#f7f7f7\"],[0.6,\"#e6f5d0\"],[0.7,\"#b8e186\"],[0.8,\"#7fbc41\"],[0.9,\"#4d9221\"],[1,\"#276419\"]],\"sequential\":[[0.0,\"#0d0887\"],[0.1111111111111111,\"#46039f\"],[0.2222222222222222,\"#7201a8\"],[0.3333333333333333,\"#9c179e\"],[0.4444444444444444,\"#bd3786\"],[0.5555555555555556,\"#d8576b\"],[0.6666666666666666,\"#ed7953\"],[0.7777777777777778,\"#fb9f3a\"],[0.8888888888888888,\"#fdca26\"],[1.0,\"#f0f921\"]],\"sequentialminus\":[[0.0,\"#0d0887\"],[0.1111111111111111,\"#46039f\"],[0.2222222222222222,\"#7201a8\"],[0.3333333333333333,\"#9c179e\"],[0.4444444444444444,\"#bd3786\"],[0.5555555555555556,\"#d8576b\"],[0.6666666666666666,\"#ed7953\"],[0.7777777777777778,\"#fb9f3a\"],[0.8888888888888888,\"#fdca26\"],[1.0,\"#f0f921\"]]},\"colorway\":[\"#636efa\",\"#EF553B\",\"#00cc96\",\"#ab63fa\",\"#FFA15A\",\"#19d3f3\",\"#FF6692\",\"#B6E880\",\"#FF97FF\",\"#FECB52\"],\"font\":{\"color\":\"#2a3f5f\"},\"geo\":{\"bgcolor\":\"white\",\"lakecolor\":\"white\",\"landcolor\":\"#E5ECF6\",\"showlakes\":true,\"showland\":true,\"subunitcolor\":\"white\"},\"hoverlabel\":{\"align\":\"left\"},\"hovermode\":\"closest\",\"mapbox\":{\"style\":\"light\"},\"paper_bgcolor\":\"white\",\"plot_bgcolor\":\"#E5ECF6\",\"polar\":{\"angularaxis\":{\"gridcolor\":\"white\",\"linecolor\":\"white\",\"ticks\":\"\"},\"bgcolor\":\"#E5ECF6\",\"radialaxis\":{\"gridcolor\":\"white\",\"linecolor\":\"white\",\"ticks\":\"\"}},\"scene\":{\"xaxis\":{\"backgroundcolor\":\"#E5ECF6\",\"gridcolor\":\"white\",\"gridwidth\":2,\"linecolor\":\"white\",\"showbackground\":true,\"ticks\":\"\",\"zerolinecolor\":\"white\"},\"yaxis\":{\"backgroundcolor\":\"#E5ECF6\",\"gridcolor\":\"white\",\"gridwidth\":2,\"linecolor\":\"white\",\"showbackground\":true,\"ticks\":\"\",\"zerolinecolor\":\"white\"},\"zaxis\":{\"backgroundcolor\":\"#E5ECF6\",\"gridcolor\":\"white\",\"gridwidth\":2,\"linecolor\":\"white\",\"showbackground\":true,\"ticks\":\"\",\"zerolinecolor\":\"white\"}},\"shapedefaults\":{\"line\":{\"color\":\"#2a3f5f\"}},\"ternary\":{\"aaxis\":{\"gridcolor\":\"white\",\"linecolor\":\"white\",\"ticks\":\"\"},\"baxis\":{\"gridcolor\":\"white\",\"linecolor\":\"white\",\"ticks\":\"\"},\"bgcolor\":\"#E5ECF6\",\"caxis\":{\"gridcolor\":\"white\",\"linecolor\":\"white\",\"ticks\":\"\"}},\"title\":{\"x\":0.05},\"xaxis\":{\"automargin\":true,\"gridcolor\":\"white\",\"linecolor\":\"white\",\"ticks\":\"\",\"title\":{\"standoff\":15},\"zerolinecolor\":\"white\",\"zerolinewidth\":2},\"yaxis\":{\"automargin\":true,\"gridcolor\":\"white\",\"linecolor\":\"white\",\"ticks\":\"\",\"title\":{\"standoff\":15},\"zerolinecolor\":\"white\",\"zerolinewidth\":2}}},\"width\":900,\"xaxis\":{\"showgrid\":false},\"yaxis\":{\"showgrid\":false,\"tickfont\":{\"size\":14},\"ticktext\":[\"50,000\",\"100,000\",\"150,000\",\"200,000\",\"250,000\",\"300,000\",\"350,000\"],\"tickvals\":[50000,100000,150000,200000,250000,300000,350000],\"title\":{\"text\":\"<b>Final Energy Demand (PJ)<b>\"}}},                        {\"responsive\": true}                    ).then(function(){\n",
       "                            \n",
       "var gd = document.getElementById('87125ec9-3837-4e0d-9abd-12c923668328');\n",
       "var x = new MutationObserver(function (mutations, observer) {{\n",
       "        var display = window.getComputedStyle(gd).display;\n",
       "        if (!display || display === 'none') {{\n",
       "            console.log([gd, 'removed!']);\n",
       "            Plotly.purge(gd);\n",
       "            observer.disconnect();\n",
       "        }}\n",
       "}});\n",
       "\n",
       "// Listen for the removal of the full notebook cells\n",
       "var notebookContainer = gd.closest('#notebook-container');\n",
       "if (notebookContainer) {{\n",
       "    x.observe(notebookContainer, {childList: true});\n",
       "}}\n",
       "\n",
       "// Listen for the clearing of the current output cell\n",
       "var outputEl = gd.closest('.output');\n",
       "if (outputEl) {{\n",
       "    x.observe(outputEl, {childList: true});\n",
       "}}\n",
       "\n",
       "                        })                };                });            </script>        </div>"
      ]
     },
     "metadata": {},
     "output_type": "display_data"
    }
   ],
   "source": [
    "\n",
    "\n",
    "x = data1['Year'].unique()\n",
    "kind = [(i,j) for i in data1['Energy Sector'].unique() for j in data1['Carrier Type'].unique()]\n",
    "fig = go.Figure()\n",
    "clrs = ['rgb(160,200,255)','rgb(0,152,255)','lightgrey','#575d6d','rgb(247,104,161)','rgb(150,0,90)']\n",
    "for count, trace in enumerate(kind):\n",
    "    if count == 0:\n",
    "        fill = 'tozeroy'\n",
    "    else:\n",
    "        fill = 'tonexty'\n",
    "    if trace[1] == 'Electricity':\n",
    "        md = 'markers'\n",
    "    else:\n",
    "        md = 'none'\n",
    "    y = data1[(data1['Carrier Type'] == trace[1])&(data1['Energy Sector'] == trace[0])]['CumSumEnergy']\n",
    "    fig.add_trace(go.Scatter(x=x, y=y, fill=fill, fillcolor = clrs[count],\n",
    "                    mode=md, name = str(trace[0])+'-'+str(trace[1]),\n",
    "                    text = data1[(data1['Carrier Type'] == trace[1])&(data1['Energy Sector'] == trace[0])]['label'],\n",
    "                    marker = dict(size=3, color = 'white')))\n",
    "ant = data1[(data1['Carrier Type'] == 'Other Carrier')&(data1['Year'] == 2015)][['CumSumEnergy','Energy Sector']].set_index('Energy Sector')\n",
    "for anno in ant.index:\n",
    "    fig.add_annotation(x=2015, align = 'left', y=ant.loc[anno,'CumSumEnergy'],\n",
    "                text=f'<b>{anno}</b>',\n",
    "                width = 200,\n",
    "                showarrow=False,\n",
    "                xshift=105,\n",
    "                yshift = -20,\n",
    "                font = dict(size = 15, color = 'white'),                \n",
    "                )\n",
    "\n",
    "for y,anno2 in zip([0]+data1[data1['Year'] == 2050][['CumSumEnergy','Carrier Type']]['CumSumEnergy'].tolist()[:5],\n",
    "                  ['Electric power', 'On-board fuels', 'Electric power', 'On-site energy', 'Electric power', 'On-site energy']):        \n",
    "    fig.add_annotation(x=2050, align = 'right', y=y,\n",
    "                text=anno2,\n",
    "                width = 200,\n",
    "                showarrow=False,\n",
    "                xshift=-105,\n",
    "                yshift = 9,\n",
    "                font = dict(size = 15, color = 'black'),                \n",
    "                )\n",
    "fig.update_layout(yaxis = dict(title = '<b>Final Energy Demand (PJ)<b>', showgrid = False, tickfont=dict(size=14),\n",
    "                        ticktext=[str(i)+',000' for i in [50,100,150,200,250,300,350]], \n",
    "                        tickvals=[1000*i for i in [50,100,150,200,250,300,350]]),\n",
    "                  xaxis =dict(showgrid = False),\n",
    "                  plot_bgcolor = 'white',\n",
    "                  showlegend=False)\n",
    "for vl in [2020,2030,2040]:\n",
    "    fig.add_shape(type=\"line\", x0=vl, y0=0, x1=vl, y1=data1['CumSumEnergy'].max(),\n",
    "        line=dict(color=\"white\",width=1, dash = 'dash')\n",
    ")\n",
    "fig.update_layout(\n",
    "    autosize=False,\n",
    "    width=900,\n",
    "    height=800)\n",
    "\n",
    "\n",
    "iplot(fig)\n"
   ]
  },
  {
   "cell_type": "markdown",
   "metadata": {},
   "source": [
    "**Code for Figure 2:**"
   ]
  },
  {
   "cell_type": "code",
   "execution_count": 61,
   "metadata": {},
   "outputs": [
    {
     "data": {
      "text/html": [
       "<div>\n",
       "<style scoped>\n",
       "    .dataframe tbody tr th:only-of-type {\n",
       "        vertical-align: middle;\n",
       "    }\n",
       "\n",
       "    .dataframe tbody tr th {\n",
       "        vertical-align: top;\n",
       "    }\n",
       "\n",
       "    .dataframe thead th {\n",
       "        text-align: right;\n",
       "    }\n",
       "</style>\n",
       "<table border=\"1\" class=\"dataframe\">\n",
       "  <thead>\n",
       "    <tr style=\"text-align: right;\">\n",
       "      <th></th>\n",
       "      <th>Year</th>\n",
       "      <th>Energy Sector</th>\n",
       "      <th>Carrier Type</th>\n",
       "      <th>Final Energy Demand</th>\n",
       "      <th>RE Share</th>\n",
       "      <th>CumSumEnergy</th>\n",
       "    </tr>\n",
       "  </thead>\n",
       "  <tbody>\n",
       "    <tr>\n",
       "      <th>0</th>\n",
       "      <td>2015</td>\n",
       "      <td>Transportation</td>\n",
       "      <td>Electricity</td>\n",
       "      <td>1503</td>\n",
       "      <td>0.015467</td>\n",
       "      <td>1503</td>\n",
       "    </tr>\n",
       "    <tr>\n",
       "      <th>1</th>\n",
       "      <td>2020</td>\n",
       "      <td>Transportation</td>\n",
       "      <td>Electricity</td>\n",
       "      <td>1855</td>\n",
       "      <td>0.018480</td>\n",
       "      <td>1855</td>\n",
       "    </tr>\n",
       "    <tr>\n",
       "      <th>2</th>\n",
       "      <td>2025</td>\n",
       "      <td>Transportation</td>\n",
       "      <td>Electricity</td>\n",
       "      <td>4930</td>\n",
       "      <td>0.062231</td>\n",
       "      <td>4930</td>\n",
       "    </tr>\n",
       "    <tr>\n",
       "      <th>3</th>\n",
       "      <td>2030</td>\n",
       "      <td>Transportation</td>\n",
       "      <td>Electricity</td>\n",
       "      <td>11034</td>\n",
       "      <td>0.184887</td>\n",
       "      <td>11034</td>\n",
       "    </tr>\n",
       "    <tr>\n",
       "      <th>4</th>\n",
       "      <td>2035</td>\n",
       "      <td>Transportation</td>\n",
       "      <td>Electricity</td>\n",
       "      <td>17582</td>\n",
       "      <td>0.365423</td>\n",
       "      <td>17582</td>\n",
       "    </tr>\n",
       "  </tbody>\n",
       "</table>\n",
       "</div>"
      ],
      "text/plain": [
       "   Year   Energy Sector Carrier Type  Final Energy Demand  RE Share  \\\n",
       "0  2015  Transportation  Electricity                 1503  0.015467   \n",
       "1  2020  Transportation  Electricity                 1855  0.018480   \n",
       "2  2025  Transportation  Electricity                 4930  0.062231   \n",
       "3  2030  Transportation  Electricity                11034  0.184887   \n",
       "4  2035  Transportation  Electricity                17582  0.365423   \n",
       "\n",
       "   CumSumEnergy  \n",
       "0          1503  \n",
       "1          1855  \n",
       "2          4930  \n",
       "3         11034  \n",
       "4         17582  "
      ]
     },
     "execution_count": 61,
     "metadata": {},
     "output_type": "execute_result"
    }
   ],
   "source": [
    "cleandf = pd.read_csv('World.csv')\n",
    "cleandf.head()"
   ]
  },
  {
   "cell_type": "code",
   "execution_count": 62,
   "metadata": {},
   "outputs": [],
   "source": [
    "df1 = pd.read_csv('data_for_pic2.csv', index_col = 0)\n",
    "df2 = pd.read_csv('data_for_pic2_partb.csv', index_col = 0)"
   ]
  },
  {
   "cell_type": "code",
   "execution_count": 63,
   "metadata": {},
   "outputs": [
    {
     "data": {
      "text/html": [
       "        <script type=\"text/javascript\">\n",
       "        window.PlotlyConfig = {MathJaxConfig: 'local'};\n",
       "        if (window.MathJax) {MathJax.Hub.Config({SVG: {font: \"STIX-Web\"}});}\n",
       "        if (typeof require !== 'undefined') {\n",
       "        require.undef(\"plotly\");\n",
       "        requirejs.config({\n",
       "            paths: {\n",
       "                'plotly': ['https://cdn.plot.ly/plotly-2.8.3.min']\n",
       "            }\n",
       "        });\n",
       "        require(['plotly'], function(Plotly) {\n",
       "            window._Plotly = Plotly;\n",
       "        });\n",
       "        }\n",
       "        </script>\n",
       "        "
      ]
     },
     "metadata": {},
     "output_type": "display_data"
    },
    {
     "data": {
      "application/vnd.plotly.v1+json": {
       "config": {
        "linkText": "Export to plot.ly",
        "plotlyServerURL": "https://plot.ly",
        "showLink": false
       },
       "data": [
        {
         "fill": "tozeroy",
         "fillcolor": "rgb(195,116,115)",
         "marker": {
          "color": "white",
          "size": 3
         },
         "mode": "none",
         "name": "POWER-Nuclear",
         "text": [
          "22.81%",
          "29.16%",
          "50.64%",
          "72.81%",
          "86.14%",
          "94.09%",
          "98.0%",
          "100.0%"
         ],
         "type": "scatter",
         "x": [
          2015,
          2020,
          2025,
          2030,
          2035,
          2040,
          2045,
          2050
         ],
         "y": [
          7628.561970877593,
          8851.746127484423,
          6888.446690041118,
          4390.1277669980445,
          2233.9026493036363,
          439.89453253091847,
          27.21993767287694,
          0
         ]
        },
        {
         "fill": "tonexty",
         "fillcolor": "rgb(56,138,158)",
         "marker": {
          "color": "white",
          "size": 3
         },
         "mode": "none",
         "name": "POWER-Hydrogen Power",
         "text": [
          "22.81%",
          "29.16%",
          "50.64%",
          "72.81%",
          "86.14%",
          "94.09%",
          "98.0%",
          "100.0%"
         ],
         "type": "scatter",
         "x": [
          2015,
          2020,
          2025,
          2030,
          2035,
          2040,
          2045,
          2050
         ],
         "y": [
          7628.561970877593,
          8853.079678226082,
          6991.452639616799,
          5171.338466741594,
          4252.223324034787,
          4619.061967907302,
          6036.4900938531455,
          7189.227035741623
         ]
        },
        {
         "fill": "tonexty",
         "fillcolor": "rgb(59,144,198)",
         "marker": {
          "color": "white",
          "size": 3
         },
         "mode": "none",
         "name": "POWER-Hydro Power",
         "text": [
          "22.81%",
          "29.16%",
          "50.64%",
          "72.81%",
          "86.14%",
          "94.09%",
          "98.0%",
          "100.0%"
         ],
         "type": "scatter",
         "x": [
          2015,
          2020,
          2025,
          2030,
          2035,
          2040,
          2045,
          2050
         ],
         "y": [
          19285.380479895703,
          21881.597652504846,
          20688.805922541484,
          18570.346191749377,
          17009.296755854506,
          16288.147619881627,
          17265.51497031703,
          18656.525913276284
         ]
        },
        {
         "fill": "tonexty",
         "fillcolor": "rgb(108,118,194)",
         "marker": {
          "color": "white",
          "size": 3
         },
         "mode": "none",
         "name": "POWER-Wind",
         "text": [
          "22.81%",
          "29.16%",
          "50.64%",
          "72.81%",
          "86.14%",
          "94.09%",
          "98.0%",
          "100.0%"
         ],
         "type": "scatter",
         "x": [
          2015,
          2020,
          2025,
          2030,
          2035,
          2040,
          2045,
          2050
         ],
         "y": [
          21797.7157854036,
          26562.90629921781,
          34334.68670581134,
          44826.98642179952,
          53776.52682171976,
          59054.77634104194,
          63748.613678036505,
          68234.97459455578
         ]
        },
        {
         "fill": "tonexty",
         "fillcolor": "rgb(1,103,105)",
         "marker": {
          "color": "white",
          "size": 3
         },
         "mode": "none",
         "name": "POWER-PV",
         "text": [
          "22.81%",
          "29.16%",
          "50.64%",
          "72.81%",
          "86.14%",
          "94.09%",
          "98.0%",
          "100.0%"
         ],
         "type": "scatter",
         "x": [
          2015,
          2020,
          2025,
          2030,
          2035,
          2040,
          2045,
          2050
         ],
         "y": [
          22536.90950911168,
          29504.082767921063,
          46331.07043975182,
          66641.20959375372,
          84428.73316043206,
          96922.43660626867,
          106058.46133645708,
          113549.35234627356
         ]
        },
        {
         "fill": "tonexty",
         "fillcolor": "rgb(127,191,191)",
         "marker": {
          "color": "white",
          "size": 3
         },
         "mode": "none",
         "name": "POWER-Biomass Power",
         "text": [
          "22.81%",
          "29.16%",
          "50.64%",
          "72.81%",
          "86.14%",
          "94.09%",
          "98.0%",
          "100.0%"
         ],
         "type": "scatter",
         "x": [
          2015,
          2020,
          2025,
          2030,
          2035,
          2040,
          2045,
          2050
         ],
         "y": [
          23947.454339958447,
          31998.822817882115,
          51460.61435295567,
          73614.2255570337,
          91638.02032757658,
          104018.9177987218,
          113277.23455509846,
          121093.2001885308
         ]
        },
        {
         "fill": "tonexty",
         "fillcolor": "rgb(18,182,169)",
         "marker": {
          "color": "white",
          "size": 3
         },
         "mode": "none",
         "name": "POWER-Geothermal Power",
         "text": [
          "22.81%",
          "29.16%",
          "50.64%",
          "72.81%",
          "86.14%",
          "94.09%",
          "98.0%",
          "100.0%"
         ],
         "type": "scatter",
         "x": [
          2015,
          2020,
          2025,
          2030,
          2035,
          2040,
          2045,
          2050
         ],
         "y": [
          24188.63589112978,
          32341.636282403026,
          52418.96586073863,
          76244.68107518973,
          95855.62680803372,
          109501.29093418524,
          119792.5210652278,
          128733.9508962314
         ]
        },
        {
         "fill": "tonexty",
         "fillcolor": "rgb(6,137,128)",
         "marker": {
          "color": "white",
          "size": 3
         },
         "mode": "none",
         "name": "POWER-Solar thermal power plants",
         "text": [
          "22.81%",
          "29.16%",
          "50.64%",
          "72.81%",
          "86.14%",
          "94.09%",
          "98.0%",
          "100.0%"
         ],
         "type": "scatter",
         "x": [
          2015,
          2020,
          2025,
          2030,
          2035,
          2040,
          2045,
          2050
         ],
         "y": [
          24216.816209103807,
          32437.56101188836,
          53371.19186678648,
          81557.76552605433,
          106001.61655131965,
          123316.20534459958,
          136287.98628616886,
          147446.1815883853
         ]
        },
        {
         "fill": "tonexty",
         "fillcolor": "rgb(156,120,128)",
         "marker": {
          "color": "white",
          "size": 3
         },
         "mode": "none",
         "name": "POWER-Ocean energy",
         "text": [
          "22.81%",
          "29.16%",
          "50.64%",
          "72.81%",
          "86.14%",
          "94.09%",
          "98.0%",
          "100.0%"
         ],
         "type": "scatter",
         "x": [
          2015,
          2020,
          2025,
          2030,
          2035,
          2040,
          2045,
          2050
         ],
         "y": [
          24219.84409433293,
          32443.955993854048,
          53495.62183486857,
          82044.7656771052,
          107114.00878118792,
          125021.41367194014,
          138553.80592151522,
          150154.44999999998
         ]
        },
        {
         "fill": "tonexty",
         "fillcolor": "rgb(70,125,194)",
         "marker": {
          "color": "white",
          "size": 3
         },
         "mode": "none",
         "name": "POWER-Coal & Lignite",
         "text": [
          "22.81%",
          "29.16%",
          "50.64%",
          "72.81%",
          "86.14%",
          "94.09%",
          "98.0%",
          "100.0%"
         ],
         "type": "scatter",
         "x": [
          2015,
          2020,
          2025,
          2030,
          2035,
          2040,
          2045,
          2050
         ],
         "y": []
        },
        {
         "fill": "tonexty",
         "fillcolor": "rgb(15,155,169)",
         "marker": {
          "color": "white",
          "size": 3
         },
         "mode": "none",
         "name": "POWER-Gas",
         "text": [
          "22.81%",
          "29.16%",
          "50.64%",
          "72.81%",
          "86.14%",
          "94.09%",
          "98.0%",
          "100.0%"
         ],
         "type": "scatter",
         "x": [
          2015,
          2020,
          2025,
          2030,
          2035,
          2040,
          2045,
          2050
         ],
         "y": []
        },
        {
         "fill": "tonexty",
         "fillcolor": "rgb(10,100,177)",
         "marker": {
          "color": "white",
          "size": 3
         },
         "mode": "none",
         "name": "POWER-Oil & Diesel",
         "text": [
          "22.81%",
          "29.16%",
          "50.64%",
          "72.81%",
          "86.14%",
          "94.09%",
          "98.0%",
          "100.0%"
         ],
         "type": "scatter",
         "x": [
          2015,
          2020,
          2025,
          2030,
          2035,
          2040,
          2045,
          2050
         ],
         "y": []
        },
        {
         "fill": "tonexty",
         "fillcolor": "rgb(54,141,184)",
         "marker": {
          "color": "white",
          "size": 3
         },
         "mode": "none",
         "name": "POWER-Solar Heat",
         "text": [
          "22.81%",
          "29.16%",
          "50.64%",
          "72.81%",
          "86.14%",
          "94.09%",
          "98.0%",
          "100.0%"
         ],
         "type": "scatter",
         "x": [
          2015,
          2020,
          2025,
          2030,
          2035,
          2040,
          2045,
          2050
         ],
         "y": []
        },
        {
         "fill": "tonexty",
         "fillcolor": "rgb(90,108,192)",
         "marker": {
          "color": "white",
          "size": 3
         },
         "mode": "none",
         "name": "POWER-Biomass",
         "text": [
          "22.81%",
          "29.16%",
          "50.64%",
          "72.81%",
          "86.14%",
          "94.09%",
          "98.0%",
          "100.0%"
         ],
         "type": "scatter",
         "x": [
          2015,
          2020,
          2025,
          2030,
          2035,
          2040,
          2045,
          2050
         ],
         "y": []
        },
        {
         "fill": "tonexty",
         "fillcolor": "rgb(151,165,170)",
         "marker": {
          "color": "white",
          "size": 3
         },
         "mode": "none",
         "name": "POWER-Geothermal",
         "text": [
          "22.81%",
          "29.16%",
          "50.64%",
          "72.81%",
          "86.14%",
          "94.09%",
          "98.0%",
          "100.0%"
         ],
         "type": "scatter",
         "x": [
          2015,
          2020,
          2025,
          2030,
          2035,
          2040,
          2045,
          2050
         ],
         "y": []
        },
        {
         "fill": "tonexty",
         "fillcolor": "rgb(56,163,195)",
         "marker": {
          "color": "white",
          "size": 3
         },
         "mode": "none",
         "name": "POWER-H Process",
         "text": [
          "22.81%",
          "29.16%",
          "50.64%",
          "72.81%",
          "86.14%",
          "94.09%",
          "98.0%",
          "100.0%"
         ],
         "type": "scatter",
         "x": [
          2015,
          2020,
          2025,
          2030,
          2035,
          2040,
          2045,
          2050
         ],
         "y": []
        },
        {
         "fill": "tonexty",
         "fillcolor": "rgb(88,188,137)",
         "marker": {
          "color": "white",
          "size": 3
         },
         "mode": "none",
         "name": "POWER-RE district heat",
         "text": [
          "22.81%",
          "29.16%",
          "50.64%",
          "72.81%",
          "86.14%",
          "94.09%",
          "98.0%",
          "100.0%"
         ],
         "type": "scatter",
         "x": [
          2015,
          2020,
          2025,
          2030,
          2035,
          2040,
          2045,
          2050
         ],
         "y": []
        },
        {
         "fill": "tonexty",
         "fillcolor": "rgb(33,152,106)",
         "marker": {
          "color": "white",
          "size": 3
         },
         "mode": "none",
         "name": "POWER-Biofuels",
         "text": [
          "22.81%",
          "29.16%",
          "50.64%",
          "72.81%",
          "86.14%",
          "94.09%",
          "98.0%",
          "100.0%"
         ],
         "type": "scatter",
         "x": [
          2015,
          2020,
          2025,
          2030,
          2035,
          2040,
          2045,
          2050
         ],
         "y": []
        },
        {
         "fill": "tonexty",
         "fillcolor": "rgb(130,104,134)",
         "marker": {
          "color": "white",
          "size": 3
         },
         "mode": "none",
         "name": "POWER-Synfuels",
         "text": [
          "22.81%",
          "29.16%",
          "50.64%",
          "72.81%",
          "86.14%",
          "94.09%",
          "98.0%",
          "100.0%"
         ],
         "type": "scatter",
         "x": [
          2015,
          2020,
          2025,
          2030,
          2035,
          2040,
          2045,
          2050
         ],
         "y": []
        },
        {
         "fill": "tonexty",
         "fillcolor": "rgb(146,123,125)",
         "marker": {
          "color": "white",
          "size": 3
         },
         "mode": "none",
         "name": "POWER-H Fuel",
         "text": [
          "22.81%",
          "29.16%",
          "50.64%",
          "72.81%",
          "86.14%",
          "94.09%",
          "98.0%",
          "100.0%"
         ],
         "type": "scatter",
         "x": [
          2015,
          2020,
          2025,
          2030,
          2035,
          2040,
          2045,
          2050
         ],
         "y": []
        },
        {
         "fill": "tonexty",
         "fillcolor": "rgb(0,0,0)",
         "marker": {
          "color": "white",
          "size": 3
         },
         "mode": "none",
         "name": "FFs-Nuclear",
         "text": [],
         "type": "scatter",
         "x": [
          2015,
          2020,
          2025,
          2030,
          2035,
          2040,
          2045,
          2050
         ],
         "y": []
        },
        {
         "fill": "tonexty",
         "fillcolor": "rgb(10,10,10)",
         "marker": {
          "color": "white",
          "size": 3
         },
         "mode": "none",
         "name": "FFs-Hydrogen Power",
         "text": [],
         "type": "scatter",
         "x": [
          2015,
          2020,
          2025,
          2030,
          2035,
          2040,
          2045,
          2050
         ],
         "y": []
        },
        {
         "fill": "tonexty",
         "fillcolor": "rgb(20,20,20)",
         "marker": {
          "color": "white",
          "size": 3
         },
         "mode": "none",
         "name": "FFs-Hydro Power",
         "text": [],
         "type": "scatter",
         "x": [
          2015,
          2020,
          2025,
          2030,
          2035,
          2040,
          2045,
          2050
         ],
         "y": []
        },
        {
         "fill": "tonexty",
         "fillcolor": "rgb(30,30,30)",
         "marker": {
          "color": "white",
          "size": 3
         },
         "mode": "none",
         "name": "FFs-Wind",
         "text": [],
         "type": "scatter",
         "x": [
          2015,
          2020,
          2025,
          2030,
          2035,
          2040,
          2045,
          2050
         ],
         "y": []
        },
        {
         "fill": "tonexty",
         "fillcolor": "rgb(40,40,40)",
         "marker": {
          "color": "white",
          "size": 3
         },
         "mode": "none",
         "name": "FFs-PV",
         "text": [],
         "type": "scatter",
         "x": [
          2015,
          2020,
          2025,
          2030,
          2035,
          2040,
          2045,
          2050
         ],
         "y": []
        },
        {
         "fill": "tonexty",
         "fillcolor": "rgb(50,50,50)",
         "marker": {
          "color": "white",
          "size": 3
         },
         "mode": "none",
         "name": "FFs-Biomass Power",
         "text": [],
         "type": "scatter",
         "x": [
          2015,
          2020,
          2025,
          2030,
          2035,
          2040,
          2045,
          2050
         ],
         "y": []
        },
        {
         "fill": "tonexty",
         "fillcolor": "rgb(60,60,60)",
         "marker": {
          "color": "white",
          "size": 3
         },
         "mode": "none",
         "name": "FFs-Geothermal Power",
         "text": [],
         "type": "scatter",
         "x": [
          2015,
          2020,
          2025,
          2030,
          2035,
          2040,
          2045,
          2050
         ],
         "y": []
        },
        {
         "fill": "tonexty",
         "fillcolor": "rgb(70,70,70)",
         "marker": {
          "color": "white",
          "size": 3
         },
         "mode": "none",
         "name": "FFs-Solar thermal power plants",
         "text": [],
         "type": "scatter",
         "x": [
          2015,
          2020,
          2025,
          2030,
          2035,
          2040,
          2045,
          2050
         ],
         "y": []
        },
        {
         "fill": "tonexty",
         "fillcolor": "rgb(80,80,80)",
         "marker": {
          "color": "white",
          "size": 3
         },
         "mode": "none",
         "name": "FFs-Ocean energy",
         "text": [],
         "type": "scatter",
         "x": [
          2015,
          2020,
          2025,
          2030,
          2035,
          2040,
          2045,
          2050
         ],
         "y": []
        },
        {
         "fill": "tonexty",
         "fillcolor": "rgb(90,90,90)",
         "marker": {
          "color": "white",
          "size": 3
         },
         "mode": "none",
         "name": "FFs-Coal & Lignite",
         "text": [],
         "type": "scatter",
         "x": [
          2015,
          2020,
          2025,
          2030,
          2035,
          2040,
          2045,
          2050
         ],
         "y": [
          92429.6540227016,
          94931.05104874002,
          91662.03041051692,
          97519.01091349372,
          110381.6379397722,
          125965.1003386068,
          138890.83925484854,
          150154.45666666664
         ]
        },
        {
         "fill": "tonexty",
         "fillcolor": "rgb(100,100,100)",
         "marker": {
          "color": "white",
          "size": 3
         },
         "mode": "none",
         "name": "FFs-Gas",
         "text": [],
         "type": "scatter",
         "x": [
          2015,
          2020,
          2025,
          2030,
          2035,
          2040,
          2045,
          2050
         ],
         "y": [
          170325.05993802173,
          179028.1954203903,
          169641.51215492387,
          158976.0578916959,
          153651.3510869689,
          149891.24922047672,
          147270.59954056388,
          150154.4633333333
         ]
        },
        {
         "fill": "tonexty",
         "fillcolor": "rgb(110,110,110)",
         "marker": {
          "color": "white",
          "size": 3
         },
         "mode": "none",
         "name": "FFs-Oil & Diesel",
         "text": [],
         "type": "scatter",
         "x": [
          2015,
          2020,
          2025,
          2030,
          2035,
          2040,
          2045,
          2050
         ],
         "y": [
          296052.82,
          304475.12969202857,
          252931.59,
          202173.19896913637,
          170078.47310268565,
          154945.41419661892,
          147908.2828738972,
          150154.46999999994
         ]
        },
        {
         "fill": "tonexty",
         "fillcolor": "rgb(120,120,120)",
         "marker": {
          "color": "white",
          "size": 3
         },
         "mode": "none",
         "name": "FFs-Solar Heat",
         "text": [],
         "type": "scatter",
         "x": [
          2015,
          2020,
          2025,
          2030,
          2035,
          2040,
          2045,
          2050
         ],
         "y": []
        },
        {
         "fill": "tonexty",
         "fillcolor": "rgb(130,130,130)",
         "marker": {
          "color": "white",
          "size": 3
         },
         "mode": "none",
         "name": "FFs-Biomass",
         "text": [],
         "type": "scatter",
         "x": [
          2015,
          2020,
          2025,
          2030,
          2035,
          2040,
          2045,
          2050
         ],
         "y": []
        },
        {
         "fill": "tonexty",
         "fillcolor": "rgb(140,140,140)",
         "marker": {
          "color": "white",
          "size": 3
         },
         "mode": "none",
         "name": "FFs-Geothermal",
         "text": [],
         "type": "scatter",
         "x": [
          2015,
          2020,
          2025,
          2030,
          2035,
          2040,
          2045,
          2050
         ],
         "y": []
        },
        {
         "fill": "tonexty",
         "fillcolor": "rgb(150,150,150)",
         "marker": {
          "color": "white",
          "size": 3
         },
         "mode": "none",
         "name": "FFs-H Process",
         "text": [],
         "type": "scatter",
         "x": [
          2015,
          2020,
          2025,
          2030,
          2035,
          2040,
          2045,
          2050
         ],
         "y": []
        },
        {
         "fill": "tonexty",
         "fillcolor": "rgb(160,160,160)",
         "marker": {
          "color": "white",
          "size": 3
         },
         "mode": "none",
         "name": "FFs-RE district heat",
         "text": [],
         "type": "scatter",
         "x": [
          2015,
          2020,
          2025,
          2030,
          2035,
          2040,
          2045,
          2050
         ],
         "y": []
        },
        {
         "fill": "tonexty",
         "fillcolor": "rgb(170,170,170)",
         "marker": {
          "color": "white",
          "size": 3
         },
         "mode": "none",
         "name": "FFs-Biofuels",
         "text": [],
         "type": "scatter",
         "x": [
          2015,
          2020,
          2025,
          2030,
          2035,
          2040,
          2045,
          2050
         ],
         "y": []
        },
        {
         "fill": "tonexty",
         "fillcolor": "rgb(180,180,180)",
         "marker": {
          "color": "white",
          "size": 3
         },
         "mode": "none",
         "name": "FFs-Synfuels",
         "text": [],
         "type": "scatter",
         "x": [
          2015,
          2020,
          2025,
          2030,
          2035,
          2040,
          2045,
          2050
         ],
         "y": []
        },
        {
         "fill": "tonexty",
         "fillcolor": "rgb(190,190,190)",
         "marker": {
          "color": "white",
          "size": 3
         },
         "mode": "none",
         "name": "FFs-H Fuel",
         "text": [],
         "type": "scatter",
         "x": [
          2015,
          2020,
          2025,
          2030,
          2035,
          2040,
          2045,
          2050
         ],
         "y": []
        },
        {
         "fill": "tonexty",
         "fillcolor": "rgb(164,133,124)",
         "marker": {
          "color": "white",
          "size": 3
         },
         "mode": "none",
         "name": "OTHER HEAT-Nuclear",
         "text": [
          "17.03%",
          "18.46%",
          "29.57%",
          "46.18%",
          "65.71%",
          "81.89%",
          "94.17%",
          "100.0%"
         ],
         "type": "scatter",
         "x": [
          2015,
          2020,
          2025,
          2030,
          2035,
          2040,
          2045,
          2050
         ],
         "y": []
        },
        {
         "fill": "tonexty",
         "fillcolor": "rgb(85,111,133)",
         "marker": {
          "color": "white",
          "size": 3
         },
         "mode": "none",
         "name": "OTHER HEAT-Hydrogen Power",
         "text": [
          "17.03%",
          "18.46%",
          "29.57%",
          "46.18%",
          "65.71%",
          "81.89%",
          "94.17%",
          "100.0%"
         ],
         "type": "scatter",
         "x": [
          2015,
          2020,
          2025,
          2030,
          2035,
          2040,
          2045,
          2050
         ],
         "y": []
        },
        {
         "fill": "tonexty",
         "fillcolor": "rgb(95,185,131)",
         "marker": {
          "color": "white",
          "size": 3
         },
         "mode": "none",
         "name": "OTHER HEAT-Hydro Power",
         "text": [
          "17.03%",
          "18.46%",
          "29.57%",
          "46.18%",
          "65.71%",
          "81.89%",
          "94.17%",
          "100.0%"
         ],
         "type": "scatter",
         "x": [
          2015,
          2020,
          2025,
          2030,
          2035,
          2040,
          2045,
          2050
         ],
         "y": []
        },
        {
         "fill": "tonexty",
         "fillcolor": "rgb(197,160,161)",
         "marker": {
          "color": "white",
          "size": 3
         },
         "mode": "none",
         "name": "OTHER HEAT-Wind",
         "text": [
          "17.03%",
          "18.46%",
          "29.57%",
          "46.18%",
          "65.71%",
          "81.89%",
          "94.17%",
          "100.0%"
         ],
         "type": "scatter",
         "x": [
          2015,
          2020,
          2025,
          2030,
          2035,
          2040,
          2045,
          2050
         ],
         "y": []
        },
        {
         "fill": "tonexty",
         "fillcolor": "rgb(8,106,135)",
         "marker": {
          "color": "white",
          "size": 3
         },
         "mode": "none",
         "name": "OTHER HEAT-PV",
         "text": [
          "17.03%",
          "18.46%",
          "29.57%",
          "46.18%",
          "65.71%",
          "81.89%",
          "94.17%",
          "100.0%"
         ],
         "type": "scatter",
         "x": [
          2015,
          2020,
          2025,
          2030,
          2035,
          2040,
          2045,
          2050
         ],
         "y": []
        },
        {
         "fill": "tonexty",
         "fillcolor": "rgb(72,104,110)",
         "marker": {
          "color": "white",
          "size": 3
         },
         "mode": "none",
         "name": "OTHER HEAT-Biomass Power",
         "text": [
          "17.03%",
          "18.46%",
          "29.57%",
          "46.18%",
          "65.71%",
          "81.89%",
          "94.17%",
          "100.0%"
         ],
         "type": "scatter",
         "x": [
          2015,
          2020,
          2025,
          2030,
          2035,
          2040,
          2045,
          2050
         ],
         "y": []
        },
        {
         "fill": "tonexty",
         "fillcolor": "rgb(1,131,182)",
         "marker": {
          "color": "white",
          "size": 3
         },
         "mode": "none",
         "name": "OTHER HEAT-Geothermal Power",
         "text": [
          "17.03%",
          "18.46%",
          "29.57%",
          "46.18%",
          "65.71%",
          "81.89%",
          "94.17%",
          "100.0%"
         ],
         "type": "scatter",
         "x": [
          2015,
          2020,
          2025,
          2030,
          2035,
          2040,
          2045,
          2050
         ],
         "y": []
        },
        {
         "fill": "tonexty",
         "fillcolor": "rgb(65,188,178)",
         "marker": {
          "color": "white",
          "size": 3
         },
         "mode": "none",
         "name": "OTHER HEAT-Solar thermal power plants",
         "text": [
          "17.03%",
          "18.46%",
          "29.57%",
          "46.18%",
          "65.71%",
          "81.89%",
          "94.17%",
          "100.0%"
         ],
         "type": "scatter",
         "x": [
          2015,
          2020,
          2025,
          2030,
          2035,
          2040,
          2045,
          2050
         ],
         "y": []
        },
        {
         "fill": "tonexty",
         "fillcolor": "rgb(129,139,110)",
         "marker": {
          "color": "white",
          "size": 3
         },
         "mode": "none",
         "name": "OTHER HEAT-Ocean energy",
         "text": [
          "17.03%",
          "18.46%",
          "29.57%",
          "46.18%",
          "65.71%",
          "81.89%",
          "94.17%",
          "100.0%"
         ],
         "type": "scatter",
         "x": [
          2015,
          2020,
          2025,
          2030,
          2035,
          2040,
          2045,
          2050
         ],
         "y": []
        },
        {
         "fill": "tonexty",
         "fillcolor": "rgb(57,137,127)",
         "marker": {
          "color": "white",
          "size": 3
         },
         "mode": "none",
         "name": "OTHER HEAT-Coal & Lignite",
         "text": [
          "17.03%",
          "18.46%",
          "29.57%",
          "46.18%",
          "65.71%",
          "81.89%",
          "94.17%",
          "100.0%"
         ],
         "type": "scatter",
         "x": [
          2015,
          2020,
          2025,
          2030,
          2035,
          2040,
          2045,
          2050
         ],
         "y": []
        },
        {
         "fill": "tonexty",
         "fillcolor": "rgb(18,113,155)",
         "marker": {
          "color": "white",
          "size": 3
         },
         "mode": "none",
         "name": "OTHER HEAT-Gas",
         "text": [
          "17.03%",
          "18.46%",
          "29.57%",
          "46.18%",
          "65.71%",
          "81.89%",
          "94.17%",
          "100.0%"
         ],
         "type": "scatter",
         "x": [
          2015,
          2020,
          2025,
          2030,
          2035,
          2040,
          2045,
          2050
         ],
         "y": []
        },
        {
         "fill": "tonexty",
         "fillcolor": "rgb(79,199,184)",
         "marker": {
          "color": "white",
          "size": 3
         },
         "mode": "none",
         "name": "OTHER HEAT-Oil & Diesel",
         "text": [
          "17.03%",
          "18.46%",
          "29.57%",
          "46.18%",
          "65.71%",
          "81.89%",
          "94.17%",
          "100.0%"
         ],
         "type": "scatter",
         "x": [
          2015,
          2020,
          2025,
          2030,
          2035,
          2040,
          2045,
          2050
         ],
         "y": []
        },
        {
         "fill": "tonexty",
         "fillcolor": "rgb(37,148,182)",
         "marker": {
          "color": "white",
          "size": 3
         },
         "mode": "none",
         "name": "OTHER HEAT-Solar Heat",
         "text": [
          "17.03%",
          "18.46%",
          "29.57%",
          "46.18%",
          "65.71%",
          "81.89%",
          "94.17%",
          "100.0%"
         ],
         "type": "scatter",
         "x": [
          2015,
          2020,
          2025,
          2030,
          2035,
          2040,
          2045,
          2050
         ],
         "y": [
          297297.74,
          306739.9596920286,
          259937.07,
          215344.73896913635,
          187327.79310268565,
          174832.35419661892,
          169775.2728738972,
          173237.93999999994
         ]
        },
        {
         "fill": "tonexty",
         "fillcolor": "rgb(127,189,184)",
         "marker": {
          "color": "white",
          "size": 3
         },
         "mode": "none",
         "name": "OTHER HEAT-Biomass",
         "text": [
          "17.03%",
          "18.46%",
          "29.57%",
          "46.18%",
          "65.71%",
          "81.89%",
          "94.17%",
          "100.0%"
         ],
         "type": "scatter",
         "x": [
          2015,
          2020,
          2025,
          2030,
          2035,
          2040,
          2045,
          2050
         ],
         "y": [
          337799.89,
          348677.81969202857,
          303315.94,
          256550.2889691364,
          224283.3031026857,
          207048.2141966189,
          195955.1428738972,
          193548.19999999995
         ]
        },
        {
         "fill": "tonexty",
         "fillcolor": "rgb(182,122,138)",
         "marker": {
          "color": "white",
          "size": 3
         },
         "mode": "none",
         "name": "OTHER HEAT-Geothermal",
         "text": [
          "17.03%",
          "18.46%",
          "29.57%",
          "46.18%",
          "65.71%",
          "81.89%",
          "94.17%",
          "100.0%"
         ],
         "type": "scatter",
         "x": [
          2015,
          2020,
          2025,
          2030,
          2035,
          2040,
          2045,
          2050
         ],
         "y": [
          338162.61,
          349470.4696920286,
          306046.29,
          262235.9189691364,
          232693.68310268567,
          217635.51419661893,
          208966.7628738972,
          208929.02999999997
         ]
        },
        {
         "fill": "tonexty",
         "fillcolor": "rgb(196,183,182)",
         "marker": {
          "color": "white",
          "size": 3
         },
         "mode": "none",
         "name": "OTHER HEAT-H Process",
         "text": [
          "17.03%",
          "18.46%",
          "29.57%",
          "46.18%",
          "65.71%",
          "81.89%",
          "94.17%",
          "100.0%"
         ],
         "type": "scatter",
         "x": [
          2015,
          2020,
          2025,
          2030,
          2035,
          2040,
          2045,
          2050
         ],
         "y": [
          338162.61,
          349470.4696920286,
          306166.8,
          263771.07896913635,
          236425.7031026857,
          225793.0741966189,
          220986.7628738972,
          221187.25999999995
         ]
        },
        {
         "fill": "tonexty",
         "fillcolor": "rgb(109,100,193)",
         "marker": {
          "color": "white",
          "size": 3
         },
         "mode": "none",
         "name": "OTHER HEAT-RE district heat",
         "text": [
          "17.03%",
          "18.46%",
          "29.57%",
          "46.18%",
          "65.71%",
          "81.89%",
          "94.17%",
          "100.0%"
         ],
         "type": "scatter",
         "x": [
          2015,
          2020,
          2025,
          2030,
          2035,
          2040,
          2045,
          2050
         ],
         "y": [
          338725.72,
          350958.7696920286,
          310305.84,
          270657.14896913635,
          245672.43310268567,
          236752.04419661887,
          233119.9628738972,
          234279.25999999995
         ]
        },
        {
         "fill": "tonexty",
         "fillcolor": "rgb(12,150,122)",
         "marker": {
          "color": "white",
          "size": 3
         },
         "mode": "none",
         "name": "OTHER HEAT-Biofuels",
         "text": [
          "17.03%",
          "18.46%",
          "29.57%",
          "46.18%",
          "65.71%",
          "81.89%",
          "94.17%",
          "100.0%"
         ],
         "type": "scatter",
         "x": [
          2015,
          2020,
          2025,
          2030,
          2035,
          2040,
          2045,
          2050
         ],
         "y": [
          341888.99,
          355082.6996920286,
          319635.25999999995,
          280711.89896913635,
          255453.96310268567,
          245984.1941966189,
          241320.9928738972,
          239972.36999999997
         ]
        },
        {
         "fill": "tonexty",
         "fillcolor": "rgb(191,132,135)",
         "marker": {
          "color": "white",
          "size": 3
         },
         "mode": "none",
         "name": "OTHER HEAT-Synfuels",
         "text": [
          "17.03%",
          "18.46%",
          "29.57%",
          "46.18%",
          "65.71%",
          "81.89%",
          "94.17%",
          "100.0%"
         ],
         "type": "scatter",
         "x": [
          2015,
          2020,
          2025,
          2030,
          2035,
          2040,
          2045,
          2050
         ],
         "y": [
          341888.99,
          355084.5096920286,
          319640.25999999995,
          281115.8389691364,
          257569.29310268565,
          250535.0341966189,
          246949.7428738972,
          246300.84999999995
         ]
        },
        {
         "fill": "tonexty",
         "fillcolor": "rgb(133,107,174)",
         "marker": {
          "color": "white",
          "size": 3
         },
         "mode": "none",
         "name": "OTHER HEAT-H Fuel",
         "text": [
          "17.03%",
          "18.46%",
          "29.57%",
          "46.18%",
          "65.71%",
          "81.89%",
          "94.17%",
          "100.0%"
         ],
         "type": "scatter",
         "x": [
          2015,
          2020,
          2025,
          2030,
          2035,
          2040,
          2045,
          2050
         ],
         "y": [
          341888.99,
          355100.7796920286,
          320467.12999999995,
          284144.89896913635,
          262699.48310268566,
          256843.0241966189,
          253713.6128738972,
          253149.92999999996
         ]
        },
        {
         "marker": {
          "color": "white",
          "size": 8
         },
         "mode": "markers",
         "type": "scatter",
         "x": [
          2020,
          2030,
          2040
         ],
         "y": [
          304475.12969202857,
          202173.19896913637,
          154945.41419661892
         ]
        },
        {
         "marker": {
          "color": "white",
          "size": 8
         },
         "mode": "markers",
         "type": "scatter",
         "x": [
          2020,
          2030,
          2040
         ],
         "y": [
          32443.955993854048,
          82044.7656771052,
          125021.41367194014
         ]
        }
       ],
       "layout": {
        "annotations": [
         {
          "align": "left",
          "font": {
           "color": "white",
           "size": 15
          },
          "showarrow": false,
          "text": "<b>Coal & Lignite</b>",
          "width": 200,
          "x": 2015,
          "xshift": 105,
          "y": 92429.6540227016,
          "yshift": -20
         },
         {
          "align": "left",
          "font": {
           "color": "white",
           "size": 15
          },
          "showarrow": false,
          "text": "<b>Gas</b>",
          "width": 200,
          "x": 2015,
          "xshift": 105,
          "y": 170325.05993802173,
          "yshift": -20
         },
         {
          "align": "left",
          "font": {
           "color": "white",
           "size": 15
          },
          "showarrow": false,
          "text": "<b>Oil & Diesel</b>",
          "width": 200,
          "x": 2015,
          "xshift": 105,
          "y": 296052.82,
          "yshift": -20
         },
         {
          "align": "right",
          "font": {
           "color": "white",
           "size": 15
          },
          "showarrow": false,
          "text": "<b>Hydro</b>",
          "width": 200,
          "x": 2050,
          "xshift": -105,
          "y": 12922.876474508954,
          "yshift": 0
         },
         {
          "align": "right",
          "font": {
           "color": "white",
           "size": 15
          },
          "showarrow": false,
          "text": "<b>Wind</b>",
          "width": 200,
          "x": 2050,
          "xshift": -105,
          "y": 43445.750253916034,
          "yshift": 0
         },
         {
          "align": "right",
          "font": {
           "color": "white",
           "size": 15
          },
          "showarrow": false,
          "text": "<b>Solar PV</b>",
          "width": 200,
          "x": 2050,
          "xshift": -105,
          "y": 90892.16347041467,
          "yshift": 0
         },
         {
          "align": "right",
          "font": {
           "color": "white",
           "size": 15
          },
          "showarrow": false,
          "text": "<b>Geothermal</b>",
          "width": 200,
          "x": 2050,
          "xshift": -105,
          "y": 124913.57554238109,
          "yshift": 0
         },
         {
          "align": "right",
          "font": {
           "color": "white",
           "size": 15
          },
          "showarrow": false,
          "text": "<b>Solar CSP</b>",
          "width": 200,
          "x": 2050,
          "xshift": -105,
          "y": 138090.06624230836,
          "yshift": 0
         },
         {
          "align": "right",
          "font": {
           "color": "white",
           "size": 15
          },
          "showarrow": false,
          "text": "<b>Solar Heat</b>",
          "width": 200,
          "x": 2050,
          "xshift": -105,
          "y": 161696.19499999995,
          "yshift": 0
         },
         {
          "align": "right",
          "font": {
           "color": "white",
           "size": 15
          },
          "showarrow": false,
          "text": "<b>Biomass</b>",
          "width": 200,
          "x": 2050,
          "xshift": -105,
          "y": 183393.06999999995,
          "yshift": 0
         },
         {
          "align": "right",
          "font": {
           "color": "white",
           "size": 15
          },
          "showarrow": false,
          "text": "<b>Geothermal</b>",
          "width": 200,
          "x": 2050,
          "xshift": -105,
          "y": 201238.61499999996,
          "yshift": 0
         },
         {
          "align": "right",
          "font": {
           "color": "white",
           "size": 15
          },
          "showarrow": false,
          "text": "<b>Hydrogen</b>",
          "width": 200,
          "x": 2050,
          "xshift": -105,
          "y": 215058.14499999996,
          "yshift": 0
         },
         {
          "align": "right",
          "font": {
           "color": "white",
           "size": 15
          },
          "showarrow": false,
          "text": "<b>RE Fuel</b>",
          "width": 200,
          "x": 2050,
          "xshift": -105,
          "y": 243136.60999999996,
          "yshift": 0
         },
         {
          "align": "center",
          "font": {
           "color": "white",
           "size": 12
          },
          "showarrow": false,
          "text": "<b>Direct E: 18%</b>",
          "width": 200,
          "x": 2020,
          "xshift": 20,
          "y": 304475.12969202857,
          "yshift": -20
         },
         {
          "align": "center",
          "font": {
           "color": "white",
           "size": 12
          },
          "showarrow": false,
          "text": "<b>Electricity E: 18%</b>",
          "width": 200,
          "x": 2020,
          "xshift": 20,
          "y": 32443.955993854048,
          "yshift": -20
         },
         {
          "align": "center",
          "font": {
           "color": "white",
           "size": 12
          },
          "showarrow": false,
          "text": "<b>Direct E: 46%</b>",
          "width": 200,
          "x": 2030,
          "xshift": 20,
          "y": 202173.19896913637,
          "yshift": -20
         },
         {
          "align": "center",
          "font": {
           "color": "white",
           "size": 12
          },
          "showarrow": false,
          "text": "<b>Electricity E: 46%</b>",
          "width": 200,
          "x": 2030,
          "xshift": 20,
          "y": 82044.7656771052,
          "yshift": -20
         },
         {
          "align": "center",
          "font": {
           "color": "white",
           "size": 12
          },
          "showarrow": false,
          "text": "<b>Direct E: 81%</b>",
          "width": 200,
          "x": 2040,
          "xshift": 20,
          "y": 154945.41419661892,
          "yshift": -20
         },
         {
          "align": "center",
          "font": {
           "color": "white",
           "size": 12
          },
          "showarrow": false,
          "text": "<b>Electricity E: 81%</b>",
          "width": 200,
          "x": 2040,
          "xshift": 20,
          "y": 125021.41367194014,
          "yshift": -20
         }
        ],
        "autosize": false,
        "height": 800,
        "plot_bgcolor": "white",
        "shapes": [
         {
          "line": {
           "color": "white",
           "dash": "dash",
           "width": 1
          },
          "type": "line",
          "x0": 2020,
          "x1": 2020,
          "y0": 0,
          "y1": 355100.7796920286
         },
         {
          "line": {
           "color": "white",
           "dash": "dash",
           "width": 1
          },
          "type": "line",
          "x0": 2030,
          "x1": 2030,
          "y0": 0,
          "y1": 355100.7796920286
         },
         {
          "line": {
           "color": "white",
           "dash": "dash",
           "width": 1
          },
          "type": "line",
          "x0": 2040,
          "x1": 2040,
          "y0": 0,
          "y1": 355100.7796920286
         }
        ],
        "showlegend": false,
        "template": {
         "data": {
          "bar": [
           {
            "error_x": {
             "color": "#2a3f5f"
            },
            "error_y": {
             "color": "#2a3f5f"
            },
            "marker": {
             "line": {
              "color": "#E5ECF6",
              "width": 0.5
             },
             "pattern": {
              "fillmode": "overlay",
              "size": 10,
              "solidity": 0.2
             }
            },
            "type": "bar"
           }
          ],
          "barpolar": [
           {
            "marker": {
             "line": {
              "color": "#E5ECF6",
              "width": 0.5
             },
             "pattern": {
              "fillmode": "overlay",
              "size": 10,
              "solidity": 0.2
             }
            },
            "type": "barpolar"
           }
          ],
          "carpet": [
           {
            "aaxis": {
             "endlinecolor": "#2a3f5f",
             "gridcolor": "white",
             "linecolor": "white",
             "minorgridcolor": "white",
             "startlinecolor": "#2a3f5f"
            },
            "baxis": {
             "endlinecolor": "#2a3f5f",
             "gridcolor": "white",
             "linecolor": "white",
             "minorgridcolor": "white",
             "startlinecolor": "#2a3f5f"
            },
            "type": "carpet"
           }
          ],
          "choropleth": [
           {
            "colorbar": {
             "outlinewidth": 0,
             "ticks": ""
            },
            "type": "choropleth"
           }
          ],
          "contour": [
           {
            "colorbar": {
             "outlinewidth": 0,
             "ticks": ""
            },
            "colorscale": [
             [
              0,
              "#0d0887"
             ],
             [
              0.1111111111111111,
              "#46039f"
             ],
             [
              0.2222222222222222,
              "#7201a8"
             ],
             [
              0.3333333333333333,
              "#9c179e"
             ],
             [
              0.4444444444444444,
              "#bd3786"
             ],
             [
              0.5555555555555556,
              "#d8576b"
             ],
             [
              0.6666666666666666,
              "#ed7953"
             ],
             [
              0.7777777777777778,
              "#fb9f3a"
             ],
             [
              0.8888888888888888,
              "#fdca26"
             ],
             [
              1,
              "#f0f921"
             ]
            ],
            "type": "contour"
           }
          ],
          "contourcarpet": [
           {
            "colorbar": {
             "outlinewidth": 0,
             "ticks": ""
            },
            "type": "contourcarpet"
           }
          ],
          "heatmap": [
           {
            "colorbar": {
             "outlinewidth": 0,
             "ticks": ""
            },
            "colorscale": [
             [
              0,
              "#0d0887"
             ],
             [
              0.1111111111111111,
              "#46039f"
             ],
             [
              0.2222222222222222,
              "#7201a8"
             ],
             [
              0.3333333333333333,
              "#9c179e"
             ],
             [
              0.4444444444444444,
              "#bd3786"
             ],
             [
              0.5555555555555556,
              "#d8576b"
             ],
             [
              0.6666666666666666,
              "#ed7953"
             ],
             [
              0.7777777777777778,
              "#fb9f3a"
             ],
             [
              0.8888888888888888,
              "#fdca26"
             ],
             [
              1,
              "#f0f921"
             ]
            ],
            "type": "heatmap"
           }
          ],
          "heatmapgl": [
           {
            "colorbar": {
             "outlinewidth": 0,
             "ticks": ""
            },
            "colorscale": [
             [
              0,
              "#0d0887"
             ],
             [
              0.1111111111111111,
              "#46039f"
             ],
             [
              0.2222222222222222,
              "#7201a8"
             ],
             [
              0.3333333333333333,
              "#9c179e"
             ],
             [
              0.4444444444444444,
              "#bd3786"
             ],
             [
              0.5555555555555556,
              "#d8576b"
             ],
             [
              0.6666666666666666,
              "#ed7953"
             ],
             [
              0.7777777777777778,
              "#fb9f3a"
             ],
             [
              0.8888888888888888,
              "#fdca26"
             ],
             [
              1,
              "#f0f921"
             ]
            ],
            "type": "heatmapgl"
           }
          ],
          "histogram": [
           {
            "marker": {
             "pattern": {
              "fillmode": "overlay",
              "size": 10,
              "solidity": 0.2
             }
            },
            "type": "histogram"
           }
          ],
          "histogram2d": [
           {
            "colorbar": {
             "outlinewidth": 0,
             "ticks": ""
            },
            "colorscale": [
             [
              0,
              "#0d0887"
             ],
             [
              0.1111111111111111,
              "#46039f"
             ],
             [
              0.2222222222222222,
              "#7201a8"
             ],
             [
              0.3333333333333333,
              "#9c179e"
             ],
             [
              0.4444444444444444,
              "#bd3786"
             ],
             [
              0.5555555555555556,
              "#d8576b"
             ],
             [
              0.6666666666666666,
              "#ed7953"
             ],
             [
              0.7777777777777778,
              "#fb9f3a"
             ],
             [
              0.8888888888888888,
              "#fdca26"
             ],
             [
              1,
              "#f0f921"
             ]
            ],
            "type": "histogram2d"
           }
          ],
          "histogram2dcontour": [
           {
            "colorbar": {
             "outlinewidth": 0,
             "ticks": ""
            },
            "colorscale": [
             [
              0,
              "#0d0887"
             ],
             [
              0.1111111111111111,
              "#46039f"
             ],
             [
              0.2222222222222222,
              "#7201a8"
             ],
             [
              0.3333333333333333,
              "#9c179e"
             ],
             [
              0.4444444444444444,
              "#bd3786"
             ],
             [
              0.5555555555555556,
              "#d8576b"
             ],
             [
              0.6666666666666666,
              "#ed7953"
             ],
             [
              0.7777777777777778,
              "#fb9f3a"
             ],
             [
              0.8888888888888888,
              "#fdca26"
             ],
             [
              1,
              "#f0f921"
             ]
            ],
            "type": "histogram2dcontour"
           }
          ],
          "mesh3d": [
           {
            "colorbar": {
             "outlinewidth": 0,
             "ticks": ""
            },
            "type": "mesh3d"
           }
          ],
          "parcoords": [
           {
            "line": {
             "colorbar": {
              "outlinewidth": 0,
              "ticks": ""
             }
            },
            "type": "parcoords"
           }
          ],
          "pie": [
           {
            "automargin": true,
            "type": "pie"
           }
          ],
          "scatter": [
           {
            "marker": {
             "colorbar": {
              "outlinewidth": 0,
              "ticks": ""
             }
            },
            "type": "scatter"
           }
          ],
          "scatter3d": [
           {
            "line": {
             "colorbar": {
              "outlinewidth": 0,
              "ticks": ""
             }
            },
            "marker": {
             "colorbar": {
              "outlinewidth": 0,
              "ticks": ""
             }
            },
            "type": "scatter3d"
           }
          ],
          "scattercarpet": [
           {
            "marker": {
             "colorbar": {
              "outlinewidth": 0,
              "ticks": ""
             }
            },
            "type": "scattercarpet"
           }
          ],
          "scattergeo": [
           {
            "marker": {
             "colorbar": {
              "outlinewidth": 0,
              "ticks": ""
             }
            },
            "type": "scattergeo"
           }
          ],
          "scattergl": [
           {
            "marker": {
             "colorbar": {
              "outlinewidth": 0,
              "ticks": ""
             }
            },
            "type": "scattergl"
           }
          ],
          "scattermapbox": [
           {
            "marker": {
             "colorbar": {
              "outlinewidth": 0,
              "ticks": ""
             }
            },
            "type": "scattermapbox"
           }
          ],
          "scatterpolar": [
           {
            "marker": {
             "colorbar": {
              "outlinewidth": 0,
              "ticks": ""
             }
            },
            "type": "scatterpolar"
           }
          ],
          "scatterpolargl": [
           {
            "marker": {
             "colorbar": {
              "outlinewidth": 0,
              "ticks": ""
             }
            },
            "type": "scatterpolargl"
           }
          ],
          "scatterternary": [
           {
            "marker": {
             "colorbar": {
              "outlinewidth": 0,
              "ticks": ""
             }
            },
            "type": "scatterternary"
           }
          ],
          "surface": [
           {
            "colorbar": {
             "outlinewidth": 0,
             "ticks": ""
            },
            "colorscale": [
             [
              0,
              "#0d0887"
             ],
             [
              0.1111111111111111,
              "#46039f"
             ],
             [
              0.2222222222222222,
              "#7201a8"
             ],
             [
              0.3333333333333333,
              "#9c179e"
             ],
             [
              0.4444444444444444,
              "#bd3786"
             ],
             [
              0.5555555555555556,
              "#d8576b"
             ],
             [
              0.6666666666666666,
              "#ed7953"
             ],
             [
              0.7777777777777778,
              "#fb9f3a"
             ],
             [
              0.8888888888888888,
              "#fdca26"
             ],
             [
              1,
              "#f0f921"
             ]
            ],
            "type": "surface"
           }
          ],
          "table": [
           {
            "cells": {
             "fill": {
              "color": "#EBF0F8"
             },
             "line": {
              "color": "white"
             }
            },
            "header": {
             "fill": {
              "color": "#C8D4E3"
             },
             "line": {
              "color": "white"
             }
            },
            "type": "table"
           }
          ]
         },
         "layout": {
          "annotationdefaults": {
           "arrowcolor": "#2a3f5f",
           "arrowhead": 0,
           "arrowwidth": 1
          },
          "autotypenumbers": "strict",
          "coloraxis": {
           "colorbar": {
            "outlinewidth": 0,
            "ticks": ""
           }
          },
          "colorscale": {
           "diverging": [
            [
             0,
             "#8e0152"
            ],
            [
             0.1,
             "#c51b7d"
            ],
            [
             0.2,
             "#de77ae"
            ],
            [
             0.3,
             "#f1b6da"
            ],
            [
             0.4,
             "#fde0ef"
            ],
            [
             0.5,
             "#f7f7f7"
            ],
            [
             0.6,
             "#e6f5d0"
            ],
            [
             0.7,
             "#b8e186"
            ],
            [
             0.8,
             "#7fbc41"
            ],
            [
             0.9,
             "#4d9221"
            ],
            [
             1,
             "#276419"
            ]
           ],
           "sequential": [
            [
             0,
             "#0d0887"
            ],
            [
             0.1111111111111111,
             "#46039f"
            ],
            [
             0.2222222222222222,
             "#7201a8"
            ],
            [
             0.3333333333333333,
             "#9c179e"
            ],
            [
             0.4444444444444444,
             "#bd3786"
            ],
            [
             0.5555555555555556,
             "#d8576b"
            ],
            [
             0.6666666666666666,
             "#ed7953"
            ],
            [
             0.7777777777777778,
             "#fb9f3a"
            ],
            [
             0.8888888888888888,
             "#fdca26"
            ],
            [
             1,
             "#f0f921"
            ]
           ],
           "sequentialminus": [
            [
             0,
             "#0d0887"
            ],
            [
             0.1111111111111111,
             "#46039f"
            ],
            [
             0.2222222222222222,
             "#7201a8"
            ],
            [
             0.3333333333333333,
             "#9c179e"
            ],
            [
             0.4444444444444444,
             "#bd3786"
            ],
            [
             0.5555555555555556,
             "#d8576b"
            ],
            [
             0.6666666666666666,
             "#ed7953"
            ],
            [
             0.7777777777777778,
             "#fb9f3a"
            ],
            [
             0.8888888888888888,
             "#fdca26"
            ],
            [
             1,
             "#f0f921"
            ]
           ]
          },
          "colorway": [
           "#636efa",
           "#EF553B",
           "#00cc96",
           "#ab63fa",
           "#FFA15A",
           "#19d3f3",
           "#FF6692",
           "#B6E880",
           "#FF97FF",
           "#FECB52"
          ],
          "font": {
           "color": "#2a3f5f"
          },
          "geo": {
           "bgcolor": "white",
           "lakecolor": "white",
           "landcolor": "#E5ECF6",
           "showlakes": true,
           "showland": true,
           "subunitcolor": "white"
          },
          "hoverlabel": {
           "align": "left"
          },
          "hovermode": "closest",
          "mapbox": {
           "style": "light"
          },
          "paper_bgcolor": "white",
          "plot_bgcolor": "#E5ECF6",
          "polar": {
           "angularaxis": {
            "gridcolor": "white",
            "linecolor": "white",
            "ticks": ""
           },
           "bgcolor": "#E5ECF6",
           "radialaxis": {
            "gridcolor": "white",
            "linecolor": "white",
            "ticks": ""
           }
          },
          "scene": {
           "xaxis": {
            "backgroundcolor": "#E5ECF6",
            "gridcolor": "white",
            "gridwidth": 2,
            "linecolor": "white",
            "showbackground": true,
            "ticks": "",
            "zerolinecolor": "white"
           },
           "yaxis": {
            "backgroundcolor": "#E5ECF6",
            "gridcolor": "white",
            "gridwidth": 2,
            "linecolor": "white",
            "showbackground": true,
            "ticks": "",
            "zerolinecolor": "white"
           },
           "zaxis": {
            "backgroundcolor": "#E5ECF6",
            "gridcolor": "white",
            "gridwidth": 2,
            "linecolor": "white",
            "showbackground": true,
            "ticks": "",
            "zerolinecolor": "white"
           }
          },
          "shapedefaults": {
           "line": {
            "color": "#2a3f5f"
           }
          },
          "ternary": {
           "aaxis": {
            "gridcolor": "white",
            "linecolor": "white",
            "ticks": ""
           },
           "baxis": {
            "gridcolor": "white",
            "linecolor": "white",
            "ticks": ""
           },
           "bgcolor": "#E5ECF6",
           "caxis": {
            "gridcolor": "white",
            "linecolor": "white",
            "ticks": ""
           }
          },
          "title": {
           "x": 0.05
          },
          "xaxis": {
           "automargin": true,
           "gridcolor": "white",
           "linecolor": "white",
           "ticks": "",
           "title": {
            "standoff": 15
           },
           "zerolinecolor": "white",
           "zerolinewidth": 2
          },
          "yaxis": {
           "automargin": true,
           "gridcolor": "white",
           "linecolor": "white",
           "ticks": "",
           "title": {
            "standoff": 15
           },
           "zerolinecolor": "white",
           "zerolinewidth": 2
          }
         }
        },
        "title": {
         "text": "Global Expansion of Renewables to Achieve the 1.5C Goal"
        },
        "width": 800,
        "xaxis": {
         "showgrid": false
        },
        "yaxis": {
         "showgrid": false,
         "tickfont": {
          "size": 14
         },
         "ticktext": [
          "50,000",
          "100,000",
          "150,000",
          "200,000",
          "250,000",
          "300,000",
          "350,000"
         ],
         "tickvals": [
          50000,
          100000,
          150000,
          200000,
          250000,
          300000,
          350000
         ],
         "title": {
          "text": "<b>Final Energy Demand (PJ)<b>"
         }
        }
       }
      },
      "text/html": [
       "<div>                            <div id=\"df61eed2-a277-4c42-b343-4f4639a7e4dd\" class=\"plotly-graph-div\" style=\"height:800px; width:800px;\"></div>            <script type=\"text/javascript\">                require([\"plotly\"], function(Plotly) {                    window.PLOTLYENV=window.PLOTLYENV || {};                                    if (document.getElementById(\"df61eed2-a277-4c42-b343-4f4639a7e4dd\")) {                    Plotly.newPlot(                        \"df61eed2-a277-4c42-b343-4f4639a7e4dd\",                        [{\"fill\":\"tozeroy\",\"fillcolor\":\"rgb(195,116,115)\",\"marker\":{\"color\":\"white\",\"size\":3},\"mode\":\"none\",\"name\":\"POWER-Nuclear\",\"text\":[\"22.81%\",\"29.16%\",\"50.64%\",\"72.81%\",\"86.14%\",\"94.09%\",\"98.0%\",\"100.0%\"],\"x\":[2015,2020,2025,2030,2035,2040,2045,2050],\"y\":[7628.561970877593,8851.746127484423,6888.446690041118,4390.1277669980445,2233.9026493036363,439.89453253091847,27.21993767287694,0.0],\"type\":\"scatter\"},{\"fill\":\"tonexty\",\"fillcolor\":\"rgb(56,138,158)\",\"marker\":{\"color\":\"white\",\"size\":3},\"mode\":\"none\",\"name\":\"POWER-Hydrogen Power\",\"text\":[\"22.81%\",\"29.16%\",\"50.64%\",\"72.81%\",\"86.14%\",\"94.09%\",\"98.0%\",\"100.0%\"],\"x\":[2015,2020,2025,2030,2035,2040,2045,2050],\"y\":[7628.561970877593,8853.079678226082,6991.452639616799,5171.338466741594,4252.223324034787,4619.061967907302,6036.4900938531455,7189.227035741623],\"type\":\"scatter\"},{\"fill\":\"tonexty\",\"fillcolor\":\"rgb(59,144,198)\",\"marker\":{\"color\":\"white\",\"size\":3},\"mode\":\"none\",\"name\":\"POWER-Hydro Power\",\"text\":[\"22.81%\",\"29.16%\",\"50.64%\",\"72.81%\",\"86.14%\",\"94.09%\",\"98.0%\",\"100.0%\"],\"x\":[2015,2020,2025,2030,2035,2040,2045,2050],\"y\":[19285.380479895703,21881.597652504846,20688.805922541484,18570.346191749377,17009.296755854506,16288.147619881627,17265.51497031703,18656.525913276284],\"type\":\"scatter\"},{\"fill\":\"tonexty\",\"fillcolor\":\"rgb(108,118,194)\",\"marker\":{\"color\":\"white\",\"size\":3},\"mode\":\"none\",\"name\":\"POWER-Wind\",\"text\":[\"22.81%\",\"29.16%\",\"50.64%\",\"72.81%\",\"86.14%\",\"94.09%\",\"98.0%\",\"100.0%\"],\"x\":[2015,2020,2025,2030,2035,2040,2045,2050],\"y\":[21797.7157854036,26562.90629921781,34334.68670581134,44826.98642179952,53776.52682171976,59054.77634104194,63748.613678036505,68234.97459455578],\"type\":\"scatter\"},{\"fill\":\"tonexty\",\"fillcolor\":\"rgb(1,103,105)\",\"marker\":{\"color\":\"white\",\"size\":3},\"mode\":\"none\",\"name\":\"POWER-PV\",\"text\":[\"22.81%\",\"29.16%\",\"50.64%\",\"72.81%\",\"86.14%\",\"94.09%\",\"98.0%\",\"100.0%\"],\"x\":[2015,2020,2025,2030,2035,2040,2045,2050],\"y\":[22536.90950911168,29504.082767921063,46331.07043975182,66641.20959375372,84428.73316043206,96922.43660626867,106058.46133645708,113549.35234627356],\"type\":\"scatter\"},{\"fill\":\"tonexty\",\"fillcolor\":\"rgb(127,191,191)\",\"marker\":{\"color\":\"white\",\"size\":3},\"mode\":\"none\",\"name\":\"POWER-Biomass Power\",\"text\":[\"22.81%\",\"29.16%\",\"50.64%\",\"72.81%\",\"86.14%\",\"94.09%\",\"98.0%\",\"100.0%\"],\"x\":[2015,2020,2025,2030,2035,2040,2045,2050],\"y\":[23947.454339958447,31998.822817882115,51460.61435295567,73614.2255570337,91638.02032757658,104018.9177987218,113277.23455509846,121093.2001885308],\"type\":\"scatter\"},{\"fill\":\"tonexty\",\"fillcolor\":\"rgb(18,182,169)\",\"marker\":{\"color\":\"white\",\"size\":3},\"mode\":\"none\",\"name\":\"POWER-Geothermal Power\",\"text\":[\"22.81%\",\"29.16%\",\"50.64%\",\"72.81%\",\"86.14%\",\"94.09%\",\"98.0%\",\"100.0%\"],\"x\":[2015,2020,2025,2030,2035,2040,2045,2050],\"y\":[24188.63589112978,32341.636282403026,52418.96586073863,76244.68107518973,95855.62680803372,109501.29093418524,119792.5210652278,128733.9508962314],\"type\":\"scatter\"},{\"fill\":\"tonexty\",\"fillcolor\":\"rgb(6,137,128)\",\"marker\":{\"color\":\"white\",\"size\":3},\"mode\":\"none\",\"name\":\"POWER-Solar thermal power plants\",\"text\":[\"22.81%\",\"29.16%\",\"50.64%\",\"72.81%\",\"86.14%\",\"94.09%\",\"98.0%\",\"100.0%\"],\"x\":[2015,2020,2025,2030,2035,2040,2045,2050],\"y\":[24216.816209103807,32437.56101188836,53371.19186678648,81557.76552605433,106001.61655131965,123316.20534459958,136287.98628616886,147446.1815883853],\"type\":\"scatter\"},{\"fill\":\"tonexty\",\"fillcolor\":\"rgb(156,120,128)\",\"marker\":{\"color\":\"white\",\"size\":3},\"mode\":\"none\",\"name\":\"POWER-Ocean energy\",\"text\":[\"22.81%\",\"29.16%\",\"50.64%\",\"72.81%\",\"86.14%\",\"94.09%\",\"98.0%\",\"100.0%\"],\"x\":[2015,2020,2025,2030,2035,2040,2045,2050],\"y\":[24219.84409433293,32443.955993854048,53495.62183486857,82044.7656771052,107114.00878118792,125021.41367194014,138553.80592151522,150154.44999999998],\"type\":\"scatter\"},{\"fill\":\"tonexty\",\"fillcolor\":\"rgb(70,125,194)\",\"marker\":{\"color\":\"white\",\"size\":3},\"mode\":\"none\",\"name\":\"POWER-Coal & Lignite\",\"text\":[\"22.81%\",\"29.16%\",\"50.64%\",\"72.81%\",\"86.14%\",\"94.09%\",\"98.0%\",\"100.0%\"],\"x\":[2015,2020,2025,2030,2035,2040,2045,2050],\"y\":[],\"type\":\"scatter\"},{\"fill\":\"tonexty\",\"fillcolor\":\"rgb(15,155,169)\",\"marker\":{\"color\":\"white\",\"size\":3},\"mode\":\"none\",\"name\":\"POWER-Gas\",\"text\":[\"22.81%\",\"29.16%\",\"50.64%\",\"72.81%\",\"86.14%\",\"94.09%\",\"98.0%\",\"100.0%\"],\"x\":[2015,2020,2025,2030,2035,2040,2045,2050],\"y\":[],\"type\":\"scatter\"},{\"fill\":\"tonexty\",\"fillcolor\":\"rgb(10,100,177)\",\"marker\":{\"color\":\"white\",\"size\":3},\"mode\":\"none\",\"name\":\"POWER-Oil & Diesel\",\"text\":[\"22.81%\",\"29.16%\",\"50.64%\",\"72.81%\",\"86.14%\",\"94.09%\",\"98.0%\",\"100.0%\"],\"x\":[2015,2020,2025,2030,2035,2040,2045,2050],\"y\":[],\"type\":\"scatter\"},{\"fill\":\"tonexty\",\"fillcolor\":\"rgb(54,141,184)\",\"marker\":{\"color\":\"white\",\"size\":3},\"mode\":\"none\",\"name\":\"POWER-Solar Heat\",\"text\":[\"22.81%\",\"29.16%\",\"50.64%\",\"72.81%\",\"86.14%\",\"94.09%\",\"98.0%\",\"100.0%\"],\"x\":[2015,2020,2025,2030,2035,2040,2045,2050],\"y\":[],\"type\":\"scatter\"},{\"fill\":\"tonexty\",\"fillcolor\":\"rgb(90,108,192)\",\"marker\":{\"color\":\"white\",\"size\":3},\"mode\":\"none\",\"name\":\"POWER-Biomass\",\"text\":[\"22.81%\",\"29.16%\",\"50.64%\",\"72.81%\",\"86.14%\",\"94.09%\",\"98.0%\",\"100.0%\"],\"x\":[2015,2020,2025,2030,2035,2040,2045,2050],\"y\":[],\"type\":\"scatter\"},{\"fill\":\"tonexty\",\"fillcolor\":\"rgb(151,165,170)\",\"marker\":{\"color\":\"white\",\"size\":3},\"mode\":\"none\",\"name\":\"POWER-Geothermal\",\"text\":[\"22.81%\",\"29.16%\",\"50.64%\",\"72.81%\",\"86.14%\",\"94.09%\",\"98.0%\",\"100.0%\"],\"x\":[2015,2020,2025,2030,2035,2040,2045,2050],\"y\":[],\"type\":\"scatter\"},{\"fill\":\"tonexty\",\"fillcolor\":\"rgb(56,163,195)\",\"marker\":{\"color\":\"white\",\"size\":3},\"mode\":\"none\",\"name\":\"POWER-H Process\",\"text\":[\"22.81%\",\"29.16%\",\"50.64%\",\"72.81%\",\"86.14%\",\"94.09%\",\"98.0%\",\"100.0%\"],\"x\":[2015,2020,2025,2030,2035,2040,2045,2050],\"y\":[],\"type\":\"scatter\"},{\"fill\":\"tonexty\",\"fillcolor\":\"rgb(88,188,137)\",\"marker\":{\"color\":\"white\",\"size\":3},\"mode\":\"none\",\"name\":\"POWER-RE district heat\",\"text\":[\"22.81%\",\"29.16%\",\"50.64%\",\"72.81%\",\"86.14%\",\"94.09%\",\"98.0%\",\"100.0%\"],\"x\":[2015,2020,2025,2030,2035,2040,2045,2050],\"y\":[],\"type\":\"scatter\"},{\"fill\":\"tonexty\",\"fillcolor\":\"rgb(33,152,106)\",\"marker\":{\"color\":\"white\",\"size\":3},\"mode\":\"none\",\"name\":\"POWER-Biofuels\",\"text\":[\"22.81%\",\"29.16%\",\"50.64%\",\"72.81%\",\"86.14%\",\"94.09%\",\"98.0%\",\"100.0%\"],\"x\":[2015,2020,2025,2030,2035,2040,2045,2050],\"y\":[],\"type\":\"scatter\"},{\"fill\":\"tonexty\",\"fillcolor\":\"rgb(130,104,134)\",\"marker\":{\"color\":\"white\",\"size\":3},\"mode\":\"none\",\"name\":\"POWER-Synfuels\",\"text\":[\"22.81%\",\"29.16%\",\"50.64%\",\"72.81%\",\"86.14%\",\"94.09%\",\"98.0%\",\"100.0%\"],\"x\":[2015,2020,2025,2030,2035,2040,2045,2050],\"y\":[],\"type\":\"scatter\"},{\"fill\":\"tonexty\",\"fillcolor\":\"rgb(146,123,125)\",\"marker\":{\"color\":\"white\",\"size\":3},\"mode\":\"none\",\"name\":\"POWER-H Fuel\",\"text\":[\"22.81%\",\"29.16%\",\"50.64%\",\"72.81%\",\"86.14%\",\"94.09%\",\"98.0%\",\"100.0%\"],\"x\":[2015,2020,2025,2030,2035,2040,2045,2050],\"y\":[],\"type\":\"scatter\"},{\"fill\":\"tonexty\",\"fillcolor\":\"rgb(0,0,0)\",\"marker\":{\"color\":\"white\",\"size\":3},\"mode\":\"none\",\"name\":\"FFs-Nuclear\",\"text\":[],\"x\":[2015,2020,2025,2030,2035,2040,2045,2050],\"y\":[],\"type\":\"scatter\"},{\"fill\":\"tonexty\",\"fillcolor\":\"rgb(10,10,10)\",\"marker\":{\"color\":\"white\",\"size\":3},\"mode\":\"none\",\"name\":\"FFs-Hydrogen Power\",\"text\":[],\"x\":[2015,2020,2025,2030,2035,2040,2045,2050],\"y\":[],\"type\":\"scatter\"},{\"fill\":\"tonexty\",\"fillcolor\":\"rgb(20,20,20)\",\"marker\":{\"color\":\"white\",\"size\":3},\"mode\":\"none\",\"name\":\"FFs-Hydro Power\",\"text\":[],\"x\":[2015,2020,2025,2030,2035,2040,2045,2050],\"y\":[],\"type\":\"scatter\"},{\"fill\":\"tonexty\",\"fillcolor\":\"rgb(30,30,30)\",\"marker\":{\"color\":\"white\",\"size\":3},\"mode\":\"none\",\"name\":\"FFs-Wind\",\"text\":[],\"x\":[2015,2020,2025,2030,2035,2040,2045,2050],\"y\":[],\"type\":\"scatter\"},{\"fill\":\"tonexty\",\"fillcolor\":\"rgb(40,40,40)\",\"marker\":{\"color\":\"white\",\"size\":3},\"mode\":\"none\",\"name\":\"FFs-PV\",\"text\":[],\"x\":[2015,2020,2025,2030,2035,2040,2045,2050],\"y\":[],\"type\":\"scatter\"},{\"fill\":\"tonexty\",\"fillcolor\":\"rgb(50,50,50)\",\"marker\":{\"color\":\"white\",\"size\":3},\"mode\":\"none\",\"name\":\"FFs-Biomass Power\",\"text\":[],\"x\":[2015,2020,2025,2030,2035,2040,2045,2050],\"y\":[],\"type\":\"scatter\"},{\"fill\":\"tonexty\",\"fillcolor\":\"rgb(60,60,60)\",\"marker\":{\"color\":\"white\",\"size\":3},\"mode\":\"none\",\"name\":\"FFs-Geothermal Power\",\"text\":[],\"x\":[2015,2020,2025,2030,2035,2040,2045,2050],\"y\":[],\"type\":\"scatter\"},{\"fill\":\"tonexty\",\"fillcolor\":\"rgb(70,70,70)\",\"marker\":{\"color\":\"white\",\"size\":3},\"mode\":\"none\",\"name\":\"FFs-Solar thermal power plants\",\"text\":[],\"x\":[2015,2020,2025,2030,2035,2040,2045,2050],\"y\":[],\"type\":\"scatter\"},{\"fill\":\"tonexty\",\"fillcolor\":\"rgb(80,80,80)\",\"marker\":{\"color\":\"white\",\"size\":3},\"mode\":\"none\",\"name\":\"FFs-Ocean energy\",\"text\":[],\"x\":[2015,2020,2025,2030,2035,2040,2045,2050],\"y\":[],\"type\":\"scatter\"},{\"fill\":\"tonexty\",\"fillcolor\":\"rgb(90,90,90)\",\"marker\":{\"color\":\"white\",\"size\":3},\"mode\":\"none\",\"name\":\"FFs-Coal & Lignite\",\"text\":[],\"x\":[2015,2020,2025,2030,2035,2040,2045,2050],\"y\":[92429.6540227016,94931.05104874002,91662.03041051692,97519.01091349372,110381.6379397722,125965.1003386068,138890.83925484854,150154.45666666664],\"type\":\"scatter\"},{\"fill\":\"tonexty\",\"fillcolor\":\"rgb(100,100,100)\",\"marker\":{\"color\":\"white\",\"size\":3},\"mode\":\"none\",\"name\":\"FFs-Gas\",\"text\":[],\"x\":[2015,2020,2025,2030,2035,2040,2045,2050],\"y\":[170325.05993802173,179028.1954203903,169641.51215492387,158976.0578916959,153651.3510869689,149891.24922047672,147270.59954056388,150154.4633333333],\"type\":\"scatter\"},{\"fill\":\"tonexty\",\"fillcolor\":\"rgb(110,110,110)\",\"marker\":{\"color\":\"white\",\"size\":3},\"mode\":\"none\",\"name\":\"FFs-Oil & Diesel\",\"text\":[],\"x\":[2015,2020,2025,2030,2035,2040,2045,2050],\"y\":[296052.82,304475.12969202857,252931.59,202173.19896913637,170078.47310268565,154945.41419661892,147908.2828738972,150154.46999999994],\"type\":\"scatter\"},{\"fill\":\"tonexty\",\"fillcolor\":\"rgb(120,120,120)\",\"marker\":{\"color\":\"white\",\"size\":3},\"mode\":\"none\",\"name\":\"FFs-Solar Heat\",\"text\":[],\"x\":[2015,2020,2025,2030,2035,2040,2045,2050],\"y\":[],\"type\":\"scatter\"},{\"fill\":\"tonexty\",\"fillcolor\":\"rgb(130,130,130)\",\"marker\":{\"color\":\"white\",\"size\":3},\"mode\":\"none\",\"name\":\"FFs-Biomass\",\"text\":[],\"x\":[2015,2020,2025,2030,2035,2040,2045,2050],\"y\":[],\"type\":\"scatter\"},{\"fill\":\"tonexty\",\"fillcolor\":\"rgb(140,140,140)\",\"marker\":{\"color\":\"white\",\"size\":3},\"mode\":\"none\",\"name\":\"FFs-Geothermal\",\"text\":[],\"x\":[2015,2020,2025,2030,2035,2040,2045,2050],\"y\":[],\"type\":\"scatter\"},{\"fill\":\"tonexty\",\"fillcolor\":\"rgb(150,150,150)\",\"marker\":{\"color\":\"white\",\"size\":3},\"mode\":\"none\",\"name\":\"FFs-H Process\",\"text\":[],\"x\":[2015,2020,2025,2030,2035,2040,2045,2050],\"y\":[],\"type\":\"scatter\"},{\"fill\":\"tonexty\",\"fillcolor\":\"rgb(160,160,160)\",\"marker\":{\"color\":\"white\",\"size\":3},\"mode\":\"none\",\"name\":\"FFs-RE district heat\",\"text\":[],\"x\":[2015,2020,2025,2030,2035,2040,2045,2050],\"y\":[],\"type\":\"scatter\"},{\"fill\":\"tonexty\",\"fillcolor\":\"rgb(170,170,170)\",\"marker\":{\"color\":\"white\",\"size\":3},\"mode\":\"none\",\"name\":\"FFs-Biofuels\",\"text\":[],\"x\":[2015,2020,2025,2030,2035,2040,2045,2050],\"y\":[],\"type\":\"scatter\"},{\"fill\":\"tonexty\",\"fillcolor\":\"rgb(180,180,180)\",\"marker\":{\"color\":\"white\",\"size\":3},\"mode\":\"none\",\"name\":\"FFs-Synfuels\",\"text\":[],\"x\":[2015,2020,2025,2030,2035,2040,2045,2050],\"y\":[],\"type\":\"scatter\"},{\"fill\":\"tonexty\",\"fillcolor\":\"rgb(190,190,190)\",\"marker\":{\"color\":\"white\",\"size\":3},\"mode\":\"none\",\"name\":\"FFs-H Fuel\",\"text\":[],\"x\":[2015,2020,2025,2030,2035,2040,2045,2050],\"y\":[],\"type\":\"scatter\"},{\"fill\":\"tonexty\",\"fillcolor\":\"rgb(164,133,124)\",\"marker\":{\"color\":\"white\",\"size\":3},\"mode\":\"none\",\"name\":\"OTHER HEAT-Nuclear\",\"text\":[\"17.03%\",\"18.46%\",\"29.57%\",\"46.18%\",\"65.71%\",\"81.89%\",\"94.17%\",\"100.0%\"],\"x\":[2015,2020,2025,2030,2035,2040,2045,2050],\"y\":[],\"type\":\"scatter\"},{\"fill\":\"tonexty\",\"fillcolor\":\"rgb(85,111,133)\",\"marker\":{\"color\":\"white\",\"size\":3},\"mode\":\"none\",\"name\":\"OTHER HEAT-Hydrogen Power\",\"text\":[\"17.03%\",\"18.46%\",\"29.57%\",\"46.18%\",\"65.71%\",\"81.89%\",\"94.17%\",\"100.0%\"],\"x\":[2015,2020,2025,2030,2035,2040,2045,2050],\"y\":[],\"type\":\"scatter\"},{\"fill\":\"tonexty\",\"fillcolor\":\"rgb(95,185,131)\",\"marker\":{\"color\":\"white\",\"size\":3},\"mode\":\"none\",\"name\":\"OTHER HEAT-Hydro Power\",\"text\":[\"17.03%\",\"18.46%\",\"29.57%\",\"46.18%\",\"65.71%\",\"81.89%\",\"94.17%\",\"100.0%\"],\"x\":[2015,2020,2025,2030,2035,2040,2045,2050],\"y\":[],\"type\":\"scatter\"},{\"fill\":\"tonexty\",\"fillcolor\":\"rgb(197,160,161)\",\"marker\":{\"color\":\"white\",\"size\":3},\"mode\":\"none\",\"name\":\"OTHER HEAT-Wind\",\"text\":[\"17.03%\",\"18.46%\",\"29.57%\",\"46.18%\",\"65.71%\",\"81.89%\",\"94.17%\",\"100.0%\"],\"x\":[2015,2020,2025,2030,2035,2040,2045,2050],\"y\":[],\"type\":\"scatter\"},{\"fill\":\"tonexty\",\"fillcolor\":\"rgb(8,106,135)\",\"marker\":{\"color\":\"white\",\"size\":3},\"mode\":\"none\",\"name\":\"OTHER HEAT-PV\",\"text\":[\"17.03%\",\"18.46%\",\"29.57%\",\"46.18%\",\"65.71%\",\"81.89%\",\"94.17%\",\"100.0%\"],\"x\":[2015,2020,2025,2030,2035,2040,2045,2050],\"y\":[],\"type\":\"scatter\"},{\"fill\":\"tonexty\",\"fillcolor\":\"rgb(72,104,110)\",\"marker\":{\"color\":\"white\",\"size\":3},\"mode\":\"none\",\"name\":\"OTHER HEAT-Biomass Power\",\"text\":[\"17.03%\",\"18.46%\",\"29.57%\",\"46.18%\",\"65.71%\",\"81.89%\",\"94.17%\",\"100.0%\"],\"x\":[2015,2020,2025,2030,2035,2040,2045,2050],\"y\":[],\"type\":\"scatter\"},{\"fill\":\"tonexty\",\"fillcolor\":\"rgb(1,131,182)\",\"marker\":{\"color\":\"white\",\"size\":3},\"mode\":\"none\",\"name\":\"OTHER HEAT-Geothermal Power\",\"text\":[\"17.03%\",\"18.46%\",\"29.57%\",\"46.18%\",\"65.71%\",\"81.89%\",\"94.17%\",\"100.0%\"],\"x\":[2015,2020,2025,2030,2035,2040,2045,2050],\"y\":[],\"type\":\"scatter\"},{\"fill\":\"tonexty\",\"fillcolor\":\"rgb(65,188,178)\",\"marker\":{\"color\":\"white\",\"size\":3},\"mode\":\"none\",\"name\":\"OTHER HEAT-Solar thermal power plants\",\"text\":[\"17.03%\",\"18.46%\",\"29.57%\",\"46.18%\",\"65.71%\",\"81.89%\",\"94.17%\",\"100.0%\"],\"x\":[2015,2020,2025,2030,2035,2040,2045,2050],\"y\":[],\"type\":\"scatter\"},{\"fill\":\"tonexty\",\"fillcolor\":\"rgb(129,139,110)\",\"marker\":{\"color\":\"white\",\"size\":3},\"mode\":\"none\",\"name\":\"OTHER HEAT-Ocean energy\",\"text\":[\"17.03%\",\"18.46%\",\"29.57%\",\"46.18%\",\"65.71%\",\"81.89%\",\"94.17%\",\"100.0%\"],\"x\":[2015,2020,2025,2030,2035,2040,2045,2050],\"y\":[],\"type\":\"scatter\"},{\"fill\":\"tonexty\",\"fillcolor\":\"rgb(57,137,127)\",\"marker\":{\"color\":\"white\",\"size\":3},\"mode\":\"none\",\"name\":\"OTHER HEAT-Coal & Lignite\",\"text\":[\"17.03%\",\"18.46%\",\"29.57%\",\"46.18%\",\"65.71%\",\"81.89%\",\"94.17%\",\"100.0%\"],\"x\":[2015,2020,2025,2030,2035,2040,2045,2050],\"y\":[],\"type\":\"scatter\"},{\"fill\":\"tonexty\",\"fillcolor\":\"rgb(18,113,155)\",\"marker\":{\"color\":\"white\",\"size\":3},\"mode\":\"none\",\"name\":\"OTHER HEAT-Gas\",\"text\":[\"17.03%\",\"18.46%\",\"29.57%\",\"46.18%\",\"65.71%\",\"81.89%\",\"94.17%\",\"100.0%\"],\"x\":[2015,2020,2025,2030,2035,2040,2045,2050],\"y\":[],\"type\":\"scatter\"},{\"fill\":\"tonexty\",\"fillcolor\":\"rgb(79,199,184)\",\"marker\":{\"color\":\"white\",\"size\":3},\"mode\":\"none\",\"name\":\"OTHER HEAT-Oil & Diesel\",\"text\":[\"17.03%\",\"18.46%\",\"29.57%\",\"46.18%\",\"65.71%\",\"81.89%\",\"94.17%\",\"100.0%\"],\"x\":[2015,2020,2025,2030,2035,2040,2045,2050],\"y\":[],\"type\":\"scatter\"},{\"fill\":\"tonexty\",\"fillcolor\":\"rgb(37,148,182)\",\"marker\":{\"color\":\"white\",\"size\":3},\"mode\":\"none\",\"name\":\"OTHER HEAT-Solar Heat\",\"text\":[\"17.03%\",\"18.46%\",\"29.57%\",\"46.18%\",\"65.71%\",\"81.89%\",\"94.17%\",\"100.0%\"],\"x\":[2015,2020,2025,2030,2035,2040,2045,2050],\"y\":[297297.74,306739.9596920286,259937.07,215344.73896913635,187327.79310268565,174832.35419661892,169775.2728738972,173237.93999999994],\"type\":\"scatter\"},{\"fill\":\"tonexty\",\"fillcolor\":\"rgb(127,189,184)\",\"marker\":{\"color\":\"white\",\"size\":3},\"mode\":\"none\",\"name\":\"OTHER HEAT-Biomass\",\"text\":[\"17.03%\",\"18.46%\",\"29.57%\",\"46.18%\",\"65.71%\",\"81.89%\",\"94.17%\",\"100.0%\"],\"x\":[2015,2020,2025,2030,2035,2040,2045,2050],\"y\":[337799.89,348677.81969202857,303315.94,256550.2889691364,224283.3031026857,207048.2141966189,195955.1428738972,193548.19999999995],\"type\":\"scatter\"},{\"fill\":\"tonexty\",\"fillcolor\":\"rgb(182,122,138)\",\"marker\":{\"color\":\"white\",\"size\":3},\"mode\":\"none\",\"name\":\"OTHER HEAT-Geothermal\",\"text\":[\"17.03%\",\"18.46%\",\"29.57%\",\"46.18%\",\"65.71%\",\"81.89%\",\"94.17%\",\"100.0%\"],\"x\":[2015,2020,2025,2030,2035,2040,2045,2050],\"y\":[338162.61,349470.4696920286,306046.29,262235.9189691364,232693.68310268567,217635.51419661893,208966.7628738972,208929.02999999997],\"type\":\"scatter\"},{\"fill\":\"tonexty\",\"fillcolor\":\"rgb(196,183,182)\",\"marker\":{\"color\":\"white\",\"size\":3},\"mode\":\"none\",\"name\":\"OTHER HEAT-H Process\",\"text\":[\"17.03%\",\"18.46%\",\"29.57%\",\"46.18%\",\"65.71%\",\"81.89%\",\"94.17%\",\"100.0%\"],\"x\":[2015,2020,2025,2030,2035,2040,2045,2050],\"y\":[338162.61,349470.4696920286,306166.8,263771.07896913635,236425.7031026857,225793.0741966189,220986.7628738972,221187.25999999995],\"type\":\"scatter\"},{\"fill\":\"tonexty\",\"fillcolor\":\"rgb(109,100,193)\",\"marker\":{\"color\":\"white\",\"size\":3},\"mode\":\"none\",\"name\":\"OTHER HEAT-RE district heat\",\"text\":[\"17.03%\",\"18.46%\",\"29.57%\",\"46.18%\",\"65.71%\",\"81.89%\",\"94.17%\",\"100.0%\"],\"x\":[2015,2020,2025,2030,2035,2040,2045,2050],\"y\":[338725.72,350958.7696920286,310305.84,270657.14896913635,245672.43310268567,236752.04419661887,233119.9628738972,234279.25999999995],\"type\":\"scatter\"},{\"fill\":\"tonexty\",\"fillcolor\":\"rgb(12,150,122)\",\"marker\":{\"color\":\"white\",\"size\":3},\"mode\":\"none\",\"name\":\"OTHER HEAT-Biofuels\",\"text\":[\"17.03%\",\"18.46%\",\"29.57%\",\"46.18%\",\"65.71%\",\"81.89%\",\"94.17%\",\"100.0%\"],\"x\":[2015,2020,2025,2030,2035,2040,2045,2050],\"y\":[341888.99,355082.6996920286,319635.25999999995,280711.89896913635,255453.96310268567,245984.1941966189,241320.9928738972,239972.36999999997],\"type\":\"scatter\"},{\"fill\":\"tonexty\",\"fillcolor\":\"rgb(191,132,135)\",\"marker\":{\"color\":\"white\",\"size\":3},\"mode\":\"none\",\"name\":\"OTHER HEAT-Synfuels\",\"text\":[\"17.03%\",\"18.46%\",\"29.57%\",\"46.18%\",\"65.71%\",\"81.89%\",\"94.17%\",\"100.0%\"],\"x\":[2015,2020,2025,2030,2035,2040,2045,2050],\"y\":[341888.99,355084.5096920286,319640.25999999995,281115.8389691364,257569.29310268565,250535.0341966189,246949.7428738972,246300.84999999995],\"type\":\"scatter\"},{\"fill\":\"tonexty\",\"fillcolor\":\"rgb(133,107,174)\",\"marker\":{\"color\":\"white\",\"size\":3},\"mode\":\"none\",\"name\":\"OTHER HEAT-H Fuel\",\"text\":[\"17.03%\",\"18.46%\",\"29.57%\",\"46.18%\",\"65.71%\",\"81.89%\",\"94.17%\",\"100.0%\"],\"x\":[2015,2020,2025,2030,2035,2040,2045,2050],\"y\":[341888.99,355100.7796920286,320467.12999999995,284144.89896913635,262699.48310268566,256843.0241966189,253713.6128738972,253149.92999999996],\"type\":\"scatter\"},{\"marker\":{\"color\":\"white\",\"size\":8},\"mode\":\"markers\",\"x\":[2020,2030,2040],\"y\":[304475.12969202857,202173.19896913637,154945.41419661892],\"type\":\"scatter\"},{\"marker\":{\"color\":\"white\",\"size\":8},\"mode\":\"markers\",\"x\":[2020,2030,2040],\"y\":[32443.955993854048,82044.7656771052,125021.41367194014],\"type\":\"scatter\"}],                        {\"annotations\":[{\"align\":\"left\",\"font\":{\"color\":\"white\",\"size\":15},\"showarrow\":false,\"text\":\"<b>Coal & Lignite</b>\",\"width\":200,\"x\":2015,\"xshift\":105,\"y\":92429.6540227016,\"yshift\":-20},{\"align\":\"left\",\"font\":{\"color\":\"white\",\"size\":15},\"showarrow\":false,\"text\":\"<b>Gas</b>\",\"width\":200,\"x\":2015,\"xshift\":105,\"y\":170325.05993802173,\"yshift\":-20},{\"align\":\"left\",\"font\":{\"color\":\"white\",\"size\":15},\"showarrow\":false,\"text\":\"<b>Oil & Diesel</b>\",\"width\":200,\"x\":2015,\"xshift\":105,\"y\":296052.82,\"yshift\":-20},{\"align\":\"right\",\"font\":{\"color\":\"white\",\"size\":15},\"showarrow\":false,\"text\":\"<b>Hydro</b>\",\"width\":200,\"x\":2050,\"xshift\":-105,\"y\":12922.876474508954,\"yshift\":0},{\"align\":\"right\",\"font\":{\"color\":\"white\",\"size\":15},\"showarrow\":false,\"text\":\"<b>Wind</b>\",\"width\":200,\"x\":2050,\"xshift\":-105,\"y\":43445.750253916034,\"yshift\":0},{\"align\":\"right\",\"font\":{\"color\":\"white\",\"size\":15},\"showarrow\":false,\"text\":\"<b>Solar PV</b>\",\"width\":200,\"x\":2050,\"xshift\":-105,\"y\":90892.16347041467,\"yshift\":0},{\"align\":\"right\",\"font\":{\"color\":\"white\",\"size\":15},\"showarrow\":false,\"text\":\"<b>Geothermal</b>\",\"width\":200,\"x\":2050,\"xshift\":-105,\"y\":124913.57554238109,\"yshift\":0},{\"align\":\"right\",\"font\":{\"color\":\"white\",\"size\":15},\"showarrow\":false,\"text\":\"<b>Solar CSP</b>\",\"width\":200,\"x\":2050,\"xshift\":-105,\"y\":138090.06624230836,\"yshift\":0},{\"align\":\"right\",\"font\":{\"color\":\"white\",\"size\":15},\"showarrow\":false,\"text\":\"<b>Solar Heat</b>\",\"width\":200,\"x\":2050,\"xshift\":-105,\"y\":161696.19499999995,\"yshift\":0},{\"align\":\"right\",\"font\":{\"color\":\"white\",\"size\":15},\"showarrow\":false,\"text\":\"<b>Biomass</b>\",\"width\":200,\"x\":2050,\"xshift\":-105,\"y\":183393.06999999995,\"yshift\":0},{\"align\":\"right\",\"font\":{\"color\":\"white\",\"size\":15},\"showarrow\":false,\"text\":\"<b>Geothermal</b>\",\"width\":200,\"x\":2050,\"xshift\":-105,\"y\":201238.61499999996,\"yshift\":0},{\"align\":\"right\",\"font\":{\"color\":\"white\",\"size\":15},\"showarrow\":false,\"text\":\"<b>Hydrogen</b>\",\"width\":200,\"x\":2050,\"xshift\":-105,\"y\":215058.14499999996,\"yshift\":0},{\"align\":\"right\",\"font\":{\"color\":\"white\",\"size\":15},\"showarrow\":false,\"text\":\"<b>RE Fuel</b>\",\"width\":200,\"x\":2050,\"xshift\":-105,\"y\":243136.60999999996,\"yshift\":0},{\"align\":\"center\",\"font\":{\"color\":\"white\",\"size\":12},\"showarrow\":false,\"text\":\"<b>Direct E: 18%</b>\",\"width\":200,\"x\":2020,\"xshift\":20,\"y\":304475.12969202857,\"yshift\":-20},{\"align\":\"center\",\"font\":{\"color\":\"white\",\"size\":12},\"showarrow\":false,\"text\":\"<b>Electricity E: 18%</b>\",\"width\":200,\"x\":2020,\"xshift\":20,\"y\":32443.955993854048,\"yshift\":-20},{\"align\":\"center\",\"font\":{\"color\":\"white\",\"size\":12},\"showarrow\":false,\"text\":\"<b>Direct E: 46%</b>\",\"width\":200,\"x\":2030,\"xshift\":20,\"y\":202173.19896913637,\"yshift\":-20},{\"align\":\"center\",\"font\":{\"color\":\"white\",\"size\":12},\"showarrow\":false,\"text\":\"<b>Electricity E: 46%</b>\",\"width\":200,\"x\":2030,\"xshift\":20,\"y\":82044.7656771052,\"yshift\":-20},{\"align\":\"center\",\"font\":{\"color\":\"white\",\"size\":12},\"showarrow\":false,\"text\":\"<b>Direct E: 81%</b>\",\"width\":200,\"x\":2040,\"xshift\":20,\"y\":154945.41419661892,\"yshift\":-20},{\"align\":\"center\",\"font\":{\"color\":\"white\",\"size\":12},\"showarrow\":false,\"text\":\"<b>Electricity E: 81%</b>\",\"width\":200,\"x\":2040,\"xshift\":20,\"y\":125021.41367194014,\"yshift\":-20}],\"autosize\":false,\"height\":800,\"plot_bgcolor\":\"white\",\"shapes\":[{\"line\":{\"color\":\"white\",\"dash\":\"dash\",\"width\":1},\"type\":\"line\",\"x0\":2020,\"x1\":2020,\"y0\":0,\"y1\":355100.7796920286},{\"line\":{\"color\":\"white\",\"dash\":\"dash\",\"width\":1},\"type\":\"line\",\"x0\":2030,\"x1\":2030,\"y0\":0,\"y1\":355100.7796920286},{\"line\":{\"color\":\"white\",\"dash\":\"dash\",\"width\":1},\"type\":\"line\",\"x0\":2040,\"x1\":2040,\"y0\":0,\"y1\":355100.7796920286}],\"showlegend\":false,\"template\":{\"data\":{\"barpolar\":[{\"marker\":{\"line\":{\"color\":\"#E5ECF6\",\"width\":0.5},\"pattern\":{\"fillmode\":\"overlay\",\"size\":10,\"solidity\":0.2}},\"type\":\"barpolar\"}],\"bar\":[{\"error_x\":{\"color\":\"#2a3f5f\"},\"error_y\":{\"color\":\"#2a3f5f\"},\"marker\":{\"line\":{\"color\":\"#E5ECF6\",\"width\":0.5},\"pattern\":{\"fillmode\":\"overlay\",\"size\":10,\"solidity\":0.2}},\"type\":\"bar\"}],\"carpet\":[{\"aaxis\":{\"endlinecolor\":\"#2a3f5f\",\"gridcolor\":\"white\",\"linecolor\":\"white\",\"minorgridcolor\":\"white\",\"startlinecolor\":\"#2a3f5f\"},\"baxis\":{\"endlinecolor\":\"#2a3f5f\",\"gridcolor\":\"white\",\"linecolor\":\"white\",\"minorgridcolor\":\"white\",\"startlinecolor\":\"#2a3f5f\"},\"type\":\"carpet\"}],\"choropleth\":[{\"colorbar\":{\"outlinewidth\":0,\"ticks\":\"\"},\"type\":\"choropleth\"}],\"contourcarpet\":[{\"colorbar\":{\"outlinewidth\":0,\"ticks\":\"\"},\"type\":\"contourcarpet\"}],\"contour\":[{\"colorbar\":{\"outlinewidth\":0,\"ticks\":\"\"},\"colorscale\":[[0.0,\"#0d0887\"],[0.1111111111111111,\"#46039f\"],[0.2222222222222222,\"#7201a8\"],[0.3333333333333333,\"#9c179e\"],[0.4444444444444444,\"#bd3786\"],[0.5555555555555556,\"#d8576b\"],[0.6666666666666666,\"#ed7953\"],[0.7777777777777778,\"#fb9f3a\"],[0.8888888888888888,\"#fdca26\"],[1.0,\"#f0f921\"]],\"type\":\"contour\"}],\"heatmapgl\":[{\"colorbar\":{\"outlinewidth\":0,\"ticks\":\"\"},\"colorscale\":[[0.0,\"#0d0887\"],[0.1111111111111111,\"#46039f\"],[0.2222222222222222,\"#7201a8\"],[0.3333333333333333,\"#9c179e\"],[0.4444444444444444,\"#bd3786\"],[0.5555555555555556,\"#d8576b\"],[0.6666666666666666,\"#ed7953\"],[0.7777777777777778,\"#fb9f3a\"],[0.8888888888888888,\"#fdca26\"],[1.0,\"#f0f921\"]],\"type\":\"heatmapgl\"}],\"heatmap\":[{\"colorbar\":{\"outlinewidth\":0,\"ticks\":\"\"},\"colorscale\":[[0.0,\"#0d0887\"],[0.1111111111111111,\"#46039f\"],[0.2222222222222222,\"#7201a8\"],[0.3333333333333333,\"#9c179e\"],[0.4444444444444444,\"#bd3786\"],[0.5555555555555556,\"#d8576b\"],[0.6666666666666666,\"#ed7953\"],[0.7777777777777778,\"#fb9f3a\"],[0.8888888888888888,\"#fdca26\"],[1.0,\"#f0f921\"]],\"type\":\"heatmap\"}],\"histogram2dcontour\":[{\"colorbar\":{\"outlinewidth\":0,\"ticks\":\"\"},\"colorscale\":[[0.0,\"#0d0887\"],[0.1111111111111111,\"#46039f\"],[0.2222222222222222,\"#7201a8\"],[0.3333333333333333,\"#9c179e\"],[0.4444444444444444,\"#bd3786\"],[0.5555555555555556,\"#d8576b\"],[0.6666666666666666,\"#ed7953\"],[0.7777777777777778,\"#fb9f3a\"],[0.8888888888888888,\"#fdca26\"],[1.0,\"#f0f921\"]],\"type\":\"histogram2dcontour\"}],\"histogram2d\":[{\"colorbar\":{\"outlinewidth\":0,\"ticks\":\"\"},\"colorscale\":[[0.0,\"#0d0887\"],[0.1111111111111111,\"#46039f\"],[0.2222222222222222,\"#7201a8\"],[0.3333333333333333,\"#9c179e\"],[0.4444444444444444,\"#bd3786\"],[0.5555555555555556,\"#d8576b\"],[0.6666666666666666,\"#ed7953\"],[0.7777777777777778,\"#fb9f3a\"],[0.8888888888888888,\"#fdca26\"],[1.0,\"#f0f921\"]],\"type\":\"histogram2d\"}],\"histogram\":[{\"marker\":{\"pattern\":{\"fillmode\":\"overlay\",\"size\":10,\"solidity\":0.2}},\"type\":\"histogram\"}],\"mesh3d\":[{\"colorbar\":{\"outlinewidth\":0,\"ticks\":\"\"},\"type\":\"mesh3d\"}],\"parcoords\":[{\"line\":{\"colorbar\":{\"outlinewidth\":0,\"ticks\":\"\"}},\"type\":\"parcoords\"}],\"pie\":[{\"automargin\":true,\"type\":\"pie\"}],\"scatter3d\":[{\"line\":{\"colorbar\":{\"outlinewidth\":0,\"ticks\":\"\"}},\"marker\":{\"colorbar\":{\"outlinewidth\":0,\"ticks\":\"\"}},\"type\":\"scatter3d\"}],\"scattercarpet\":[{\"marker\":{\"colorbar\":{\"outlinewidth\":0,\"ticks\":\"\"}},\"type\":\"scattercarpet\"}],\"scattergeo\":[{\"marker\":{\"colorbar\":{\"outlinewidth\":0,\"ticks\":\"\"}},\"type\":\"scattergeo\"}],\"scattergl\":[{\"marker\":{\"colorbar\":{\"outlinewidth\":0,\"ticks\":\"\"}},\"type\":\"scattergl\"}],\"scattermapbox\":[{\"marker\":{\"colorbar\":{\"outlinewidth\":0,\"ticks\":\"\"}},\"type\":\"scattermapbox\"}],\"scatterpolargl\":[{\"marker\":{\"colorbar\":{\"outlinewidth\":0,\"ticks\":\"\"}},\"type\":\"scatterpolargl\"}],\"scatterpolar\":[{\"marker\":{\"colorbar\":{\"outlinewidth\":0,\"ticks\":\"\"}},\"type\":\"scatterpolar\"}],\"scatter\":[{\"marker\":{\"colorbar\":{\"outlinewidth\":0,\"ticks\":\"\"}},\"type\":\"scatter\"}],\"scatterternary\":[{\"marker\":{\"colorbar\":{\"outlinewidth\":0,\"ticks\":\"\"}},\"type\":\"scatterternary\"}],\"surface\":[{\"colorbar\":{\"outlinewidth\":0,\"ticks\":\"\"},\"colorscale\":[[0.0,\"#0d0887\"],[0.1111111111111111,\"#46039f\"],[0.2222222222222222,\"#7201a8\"],[0.3333333333333333,\"#9c179e\"],[0.4444444444444444,\"#bd3786\"],[0.5555555555555556,\"#d8576b\"],[0.6666666666666666,\"#ed7953\"],[0.7777777777777778,\"#fb9f3a\"],[0.8888888888888888,\"#fdca26\"],[1.0,\"#f0f921\"]],\"type\":\"surface\"}],\"table\":[{\"cells\":{\"fill\":{\"color\":\"#EBF0F8\"},\"line\":{\"color\":\"white\"}},\"header\":{\"fill\":{\"color\":\"#C8D4E3\"},\"line\":{\"color\":\"white\"}},\"type\":\"table\"}]},\"layout\":{\"annotationdefaults\":{\"arrowcolor\":\"#2a3f5f\",\"arrowhead\":0,\"arrowwidth\":1},\"autotypenumbers\":\"strict\",\"coloraxis\":{\"colorbar\":{\"outlinewidth\":0,\"ticks\":\"\"}},\"colorscale\":{\"diverging\":[[0,\"#8e0152\"],[0.1,\"#c51b7d\"],[0.2,\"#de77ae\"],[0.3,\"#f1b6da\"],[0.4,\"#fde0ef\"],[0.5,\"#f7f7f7\"],[0.6,\"#e6f5d0\"],[0.7,\"#b8e186\"],[0.8,\"#7fbc41\"],[0.9,\"#4d9221\"],[1,\"#276419\"]],\"sequential\":[[0.0,\"#0d0887\"],[0.1111111111111111,\"#46039f\"],[0.2222222222222222,\"#7201a8\"],[0.3333333333333333,\"#9c179e\"],[0.4444444444444444,\"#bd3786\"],[0.5555555555555556,\"#d8576b\"],[0.6666666666666666,\"#ed7953\"],[0.7777777777777778,\"#fb9f3a\"],[0.8888888888888888,\"#fdca26\"],[1.0,\"#f0f921\"]],\"sequentialminus\":[[0.0,\"#0d0887\"],[0.1111111111111111,\"#46039f\"],[0.2222222222222222,\"#7201a8\"],[0.3333333333333333,\"#9c179e\"],[0.4444444444444444,\"#bd3786\"],[0.5555555555555556,\"#d8576b\"],[0.6666666666666666,\"#ed7953\"],[0.7777777777777778,\"#fb9f3a\"],[0.8888888888888888,\"#fdca26\"],[1.0,\"#f0f921\"]]},\"colorway\":[\"#636efa\",\"#EF553B\",\"#00cc96\",\"#ab63fa\",\"#FFA15A\",\"#19d3f3\",\"#FF6692\",\"#B6E880\",\"#FF97FF\",\"#FECB52\"],\"font\":{\"color\":\"#2a3f5f\"},\"geo\":{\"bgcolor\":\"white\",\"lakecolor\":\"white\",\"landcolor\":\"#E5ECF6\",\"showlakes\":true,\"showland\":true,\"subunitcolor\":\"white\"},\"hoverlabel\":{\"align\":\"left\"},\"hovermode\":\"closest\",\"mapbox\":{\"style\":\"light\"},\"paper_bgcolor\":\"white\",\"plot_bgcolor\":\"#E5ECF6\",\"polar\":{\"angularaxis\":{\"gridcolor\":\"white\",\"linecolor\":\"white\",\"ticks\":\"\"},\"bgcolor\":\"#E5ECF6\",\"radialaxis\":{\"gridcolor\":\"white\",\"linecolor\":\"white\",\"ticks\":\"\"}},\"scene\":{\"xaxis\":{\"backgroundcolor\":\"#E5ECF6\",\"gridcolor\":\"white\",\"gridwidth\":2,\"linecolor\":\"white\",\"showbackground\":true,\"ticks\":\"\",\"zerolinecolor\":\"white\"},\"yaxis\":{\"backgroundcolor\":\"#E5ECF6\",\"gridcolor\":\"white\",\"gridwidth\":2,\"linecolor\":\"white\",\"showbackground\":true,\"ticks\":\"\",\"zerolinecolor\":\"white\"},\"zaxis\":{\"backgroundcolor\":\"#E5ECF6\",\"gridcolor\":\"white\",\"gridwidth\":2,\"linecolor\":\"white\",\"showbackground\":true,\"ticks\":\"\",\"zerolinecolor\":\"white\"}},\"shapedefaults\":{\"line\":{\"color\":\"#2a3f5f\"}},\"ternary\":{\"aaxis\":{\"gridcolor\":\"white\",\"linecolor\":\"white\",\"ticks\":\"\"},\"baxis\":{\"gridcolor\":\"white\",\"linecolor\":\"white\",\"ticks\":\"\"},\"bgcolor\":\"#E5ECF6\",\"caxis\":{\"gridcolor\":\"white\",\"linecolor\":\"white\",\"ticks\":\"\"}},\"title\":{\"x\":0.05},\"xaxis\":{\"automargin\":true,\"gridcolor\":\"white\",\"linecolor\":\"white\",\"ticks\":\"\",\"title\":{\"standoff\":15},\"zerolinecolor\":\"white\",\"zerolinewidth\":2},\"yaxis\":{\"automargin\":true,\"gridcolor\":\"white\",\"linecolor\":\"white\",\"ticks\":\"\",\"title\":{\"standoff\":15},\"zerolinecolor\":\"white\",\"zerolinewidth\":2}}},\"title\":{\"text\":\"Global Expansion of Renewables to Achieve the 1.5C Goal\"},\"width\":800,\"xaxis\":{\"showgrid\":false},\"yaxis\":{\"showgrid\":false,\"tickfont\":{\"size\":14},\"ticktext\":[\"50,000\",\"100,000\",\"150,000\",\"200,000\",\"250,000\",\"300,000\",\"350,000\"],\"tickvals\":[50000,100000,150000,200000,250000,300000,350000],\"title\":{\"text\":\"<b>Final Energy Demand (PJ)<b>\"}}},                        {\"responsive\": true}                    ).then(function(){\n",
       "                            \n",
       "var gd = document.getElementById('df61eed2-a277-4c42-b343-4f4639a7e4dd');\n",
       "var x = new MutationObserver(function (mutations, observer) {{\n",
       "        var display = window.getComputedStyle(gd).display;\n",
       "        if (!display || display === 'none') {{\n",
       "            console.log([gd, 'removed!']);\n",
       "            Plotly.purge(gd);\n",
       "            observer.disconnect();\n",
       "        }}\n",
       "}});\n",
       "\n",
       "// Listen for the removal of the full notebook cells\n",
       "var notebookContainer = gd.closest('#notebook-container');\n",
       "if (notebookContainer) {{\n",
       "    x.observe(notebookContainer, {childList: true});\n",
       "}}\n",
       "\n",
       "// Listen for the clearing of the current output cell\n",
       "var outputEl = gd.closest('.output');\n",
       "if (outputEl) {{\n",
       "    x.observe(outputEl, {childList: true});\n",
       "}}\n",
       "\n",
       "                        })                };                });            </script>        </div>"
      ]
     },
     "metadata": {},
     "output_type": "display_data"
    }
   ],
   "source": [
    "from plotly.offline import download_plotlyjs, init_notebook_mode,  iplot\n",
    "init_notebook_mode(connected=True)\n",
    "\n",
    "\n",
    "x = df1['year'].unique()\n",
    "kind = [(i,j) for i in df1['Sector'].unique() for j in df1['Category'].unique()]\n",
    "fig = go.Figure()\n",
    "clrs = []\n",
    "black_clrs = []\n",
    "for i in range(len(kind)):\n",
    "    clrs.append(f'rgb({np.random.randint(0,200)},{np.random.randint(100,200)},{np.random.randint(100,200)})')\n",
    "for i in range(20):\n",
    "    black_clrs.append(f'rgb({10*i},{10*i},{10*i})')\n",
    "FF_count = 0\n",
    "for count, trace in enumerate(kind):\n",
    "    if count == 0:\n",
    "        fill = 'tozeroy'\n",
    "    else:\n",
    "        fill = 'tonexty'\n",
    "\n",
    "    y = df1[(df1['Category'] == trace[1])&(df1['Sector'] == trace[0])]['CumSumEnergy']\n",
    "    if trace[0] == 'FFs':\n",
    "        color_to_fill = black_clrs[FF_count]\n",
    "        FF_count += 1\n",
    "    else:\n",
    "        color_to_fill = clrs[count]\n",
    "    \n",
    "    fig.add_trace(go.Scatter(x=x, y=y, fill=fill, fillcolor = color_to_fill,\n",
    "                    mode='none', \n",
    "                    name = str(trace[0])+'-'+str(trace[1]),\n",
    "                    text = df2[(df2['Carrier Type'] == trace[0])]['percentage'].apply(lambda x: f'{round(x*100, 2)}%').values,\n",
    "                    marker = dict(size=3, color = 'white')))\n",
    "    \n",
    "ant1 = df1[(df1['Sector'] == 'FFs')&(df1['year'] == 2015)][['CumSumEnergy','Category']].set_index('Category')\n",
    "for anno in ant1.index:\n",
    "    fig.add_annotation(x=2015, align = 'left', y=ant1.loc[anno,'CumSumEnergy'],\n",
    "                text=f'<b>{anno}</b>',\n",
    "                width = 200,\n",
    "                showarrow=False,\n",
    "                xshift=105,\n",
    "                yshift = -20,\n",
    "                font = dict(size = 15, color = 'white'),                \n",
    "                )\n",
    "ant2 = df1[(df1['Sector'] != 'FFs')&(df1['year'] == 2050)][['CumSumEnergy','Category']].set_index('Category')\n",
    "print_dict = {'Synfuels':'RE Fuel', 'RE District heat':'RE District', 'H Process':'Hydrogen', 'Geothermal':'Geothermal', \n",
    " 'Biomass':'Biomass',\n",
    " 'Solar Heat': 'Solar Heat',\n",
    " 'Hydro Power': 'Hydro',\n",
    " 'Wind':'Wind',\n",
    " 'Geothermal Power': 'Geothermal',\n",
    " 'Solar thermal power plants': 'Solar CSP',\n",
    "'PV': 'Solar PV'}\n",
    "\n",
    "for i in range(len(ant2.index)):\n",
    "    anno = ant2.index.values[i]\n",
    "    prev_anno = ant2.index.values[i-1]\n",
    "    if anno in print_dict.keys():\n",
    "        if i != 1:\n",
    "            height_val = np.mean([ant2.loc[anno,'CumSumEnergy'], ant2.loc[prev_anno,'CumSumEnergy']])\n",
    "        else:\n",
    "            height_val = ant2.loc[anno,'CumSumEnergy']\n",
    "        fig.add_annotation(x=2050, align = 'right', y= height_val,\n",
    "                    text=f'<b>{print_dict[anno]}</b>',\n",
    "                    width = 200,\n",
    "                    showarrow=False,\n",
    "                    xshift= -105,\n",
    "                    yshift = 0,\n",
    "                    font = dict(size = 15, color = 'white'),                \n",
    "                    )\n",
    "\n",
    "fig.update_layout(yaxis = dict(title = '<b>Final Energy Demand (PJ)<b>', showgrid = False, tickfont=dict(size=14),\n",
    "                        ticktext=[str(i)+',000' for i in [50,100,150,200,250,300,350]], \n",
    "                        tickvals=[1000*i for i in [50,100,150,200,250,300,350]]),\n",
    "                  xaxis =dict(showgrid = False),\n",
    "                  plot_bgcolor = 'white',\n",
    "                  showlegend=False)\n",
    "for vl in [2020,2030,2040]:\n",
    "    fig.add_shape(type=\"line\", x0=vl, y0=0, x1=vl, y1=df1['CumSumEnergy'].max(),\n",
    "        line=dict(color=\"white\",width=1, dash = 'dash')\n",
    ")\n",
    "    \n",
    "cat_h_dict = df1.groupby(['year','Sector']).CumSumEnergy.max()\n",
    "Direct_hs = []\n",
    "Electric_hs = []\n",
    "for year in [2020,2030,2040]:\n",
    "    Direct_h = cat_h_dict.loc[year, 'FFs']\n",
    "    Direct_hs.append(Direct_h)\n",
    "    Electric_h = cat_h_dict.loc[year, 'POWER']\n",
    "    Electric_hs.append(Electric_h)\n",
    "    pct_D = int(df2[(df2['Carrier Type'] == 'OTHER HEAT')&(df2['year']==year)].percentage.values[0]*100)\n",
    "    fig.add_annotation(x=year, align = 'center', y= Direct_h,\n",
    "                    text=f'<b>Direct E: {pct_D}%</b>',\n",
    "                    width = 200,\n",
    "                    showarrow=False,\n",
    "                    xshift= 20,\n",
    "                    yshift = -20,\n",
    "                    font = dict(size = 12, color = 'white'),                \n",
    "                    )\n",
    "    pct_E = int(df2[(df2['Carrier Type'] == 'POWER')&(df2['year']==year)].percentage.values[0]*100)\n",
    "    fig.add_annotation(x=year, align = 'center', y= Electric_h,\n",
    "                    \n",
    "                    text=f'<b>Electricity E: {pct_D}%</b>',\n",
    "                    width = 200,\n",
    "                    showarrow=False,\n",
    "                    xshift= 20,\n",
    "                    yshift = -20,\n",
    "                    font = dict(size = 12, color = 'white')     \n",
    "                    )\n",
    "fig.add_trace(\n",
    "    go.Scatter(\n",
    "        x = [2020,2030,2040],\n",
    "        y = Direct_hs,\n",
    "        mode = 'markers',\n",
    "        marker = dict(size=8, color = 'white'))  \n",
    ")\n",
    "fig.add_trace(\n",
    "    go.Scatter(\n",
    "        x = [2020,2030,2040],\n",
    "        y = Electric_hs,\n",
    "        mode = 'markers',\n",
    "        marker = dict(size=8, color = 'white'))\n",
    ")\n",
    "\n",
    "fig.update_layout(\n",
    "    title = 'Global Expansion of Renewables to Achieve the 1.5C Goal',\n",
    "    autosize=False,\n",
    "    width=800,\n",
    "    height=800)\n",
    "\n",
    "iplot(fig)\n",
    "\n"
   ]
  },
  {
   "cell_type": "code",
   "execution_count": null,
   "metadata": {},
   "outputs": [],
   "source": []
  }
 ],
 "metadata": {
  "kernelspec": {
   "display_name": "Python 3 (ipykernel)",
   "language": "python",
   "name": "python3"
  },
  "language_info": {
   "codemirror_mode": {
    "name": "ipython",
    "version": 3
   },
   "file_extension": ".py",
   "mimetype": "text/x-python",
   "name": "python",
   "nbconvert_exporter": "python",
   "pygments_lexer": "ipython3",
   "version": "3.9.7"
  }
 },
 "nbformat": 4,
 "nbformat_minor": 2
}
